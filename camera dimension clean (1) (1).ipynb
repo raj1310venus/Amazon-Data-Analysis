{
 "cells": [
  {
   "cell_type": "code",
   "execution_count": 31,
   "id": "c5287949",
   "metadata": {},
   "outputs": [],
   "source": [
    "import pandas as pd\n",
    "import numpy as np"
   ]
  },
  {
   "cell_type": "code",
   "execution_count": 32,
   "id": "60810aa3",
   "metadata": {},
   "outputs": [],
   "source": [
    "#loading the dataset\n",
    "df = pd.read_excel(\"C:\\\\Users\\\\14375\\\\Downloads\\\\sql project data\\\\Cameras dimension.xlsx\", skiprows=3 , header=1)"
   ]
  },
  {
   "cell_type": "code",
   "execution_count": 33,
   "id": "23d769ee",
   "metadata": {},
   "outputs": [
    {
     "name": "stdout",
     "output_type": "stream",
     "text": [
      "<class 'pandas.core.frame.DataFrame'>\n",
      "RangeIndex: 154 entries, 0 to 153\n",
      "Data columns (total 13 columns):\n",
      " #   Column          Non-Null Count  Dtype  \n",
      "---  ------          --------------  -----  \n",
      " 0   ID              149 non-null    object \n",
      " 1   Unnamed: 1      0 non-null      float64\n",
      " 2   name            149 non-null    object \n",
      " 3   main_category   149 non-null    object \n",
      " 4   Unnamed: 4      0 non-null      float64\n",
      " 5   sub_category    149 non-null    object \n",
      " 6   image           149 non-null    object \n",
      " 7   link            149 non-null    object \n",
      " 8   ratings         149 non-null    float64\n",
      " 9   no_of_ratings   149 non-null    float64\n",
      " 10  Unnamed: 10     0 non-null      float64\n",
      " 11  discount_price  141 non-null    object \n",
      " 12  actual_price    148 non-null    object \n",
      "dtypes: float64(5), object(8)\n",
      "memory usage: 15.8+ KB\n"
     ]
    }
   ],
   "source": [
    "df.info()"
   ]
  },
  {
   "cell_type": "code",
   "execution_count": 34,
   "id": "7640194f",
   "metadata": {},
   "outputs": [
    {
     "data": {
      "text/html": [
       "<div>\n",
       "<style scoped>\n",
       "    .dataframe tbody tr th:only-of-type {\n",
       "        vertical-align: middle;\n",
       "    }\n",
       "\n",
       "    .dataframe tbody tr th {\n",
       "        vertical-align: top;\n",
       "    }\n",
       "\n",
       "    .dataframe thead th {\n",
       "        text-align: right;\n",
       "    }\n",
       "</style>\n",
       "<table border=\"1\" class=\"dataframe\">\n",
       "  <thead>\n",
       "    <tr style=\"text-align: right;\">\n",
       "      <th></th>\n",
       "      <th>Unnamed: 1</th>\n",
       "      <th>Unnamed: 4</th>\n",
       "      <th>ratings</th>\n",
       "      <th>no_of_ratings</th>\n",
       "      <th>Unnamed: 10</th>\n",
       "    </tr>\n",
       "  </thead>\n",
       "  <tbody>\n",
       "    <tr>\n",
       "      <th>count</th>\n",
       "      <td>0.0</td>\n",
       "      <td>0.0</td>\n",
       "      <td>149.000000</td>\n",
       "      <td>149.000000</td>\n",
       "      <td>0.0</td>\n",
       "    </tr>\n",
       "    <tr>\n",
       "      <th>mean</th>\n",
       "      <td>NaN</td>\n",
       "      <td>NaN</td>\n",
       "      <td>4.181879</td>\n",
       "      <td>36246.583893</td>\n",
       "      <td>NaN</td>\n",
       "    </tr>\n",
       "    <tr>\n",
       "      <th>std</th>\n",
       "      <td>NaN</td>\n",
       "      <td>NaN</td>\n",
       "      <td>0.350493</td>\n",
       "      <td>80143.378124</td>\n",
       "      <td>NaN</td>\n",
       "    </tr>\n",
       "    <tr>\n",
       "      <th>min</th>\n",
       "      <td>NaN</td>\n",
       "      <td>NaN</td>\n",
       "      <td>2.900000</td>\n",
       "      <td>6.000000</td>\n",
       "      <td>NaN</td>\n",
       "    </tr>\n",
       "    <tr>\n",
       "      <th>25%</th>\n",
       "      <td>NaN</td>\n",
       "      <td>NaN</td>\n",
       "      <td>4.000000</td>\n",
       "      <td>947.000000</td>\n",
       "      <td>NaN</td>\n",
       "    </tr>\n",
       "    <tr>\n",
       "      <th>50%</th>\n",
       "      <td>NaN</td>\n",
       "      <td>NaN</td>\n",
       "      <td>4.300000</td>\n",
       "      <td>6445.000000</td>\n",
       "      <td>NaN</td>\n",
       "    </tr>\n",
       "    <tr>\n",
       "      <th>75%</th>\n",
       "      <td>NaN</td>\n",
       "      <td>NaN</td>\n",
       "      <td>4.400000</td>\n",
       "      <td>25215.000000</td>\n",
       "      <td>NaN</td>\n",
       "    </tr>\n",
       "    <tr>\n",
       "      <th>max</th>\n",
       "      <td>NaN</td>\n",
       "      <td>NaN</td>\n",
       "      <td>5.000000</td>\n",
       "      <td>437651.000000</td>\n",
       "      <td>NaN</td>\n",
       "    </tr>\n",
       "  </tbody>\n",
       "</table>\n",
       "</div>"
      ],
      "text/plain": [
       "       Unnamed: 1  Unnamed: 4     ratings  no_of_ratings  Unnamed: 10\n",
       "count         0.0         0.0  149.000000     149.000000          0.0\n",
       "mean          NaN         NaN    4.181879   36246.583893          NaN\n",
       "std           NaN         NaN    0.350493   80143.378124          NaN\n",
       "min           NaN         NaN    2.900000       6.000000          NaN\n",
       "25%           NaN         NaN    4.000000     947.000000          NaN\n",
       "50%           NaN         NaN    4.300000    6445.000000          NaN\n",
       "75%           NaN         NaN    4.400000   25215.000000          NaN\n",
       "max           NaN         NaN    5.000000  437651.000000          NaN"
      ]
     },
     "execution_count": 34,
     "metadata": {},
     "output_type": "execute_result"
    }
   ],
   "source": [
    "df.describe()"
   ]
  },
  {
   "cell_type": "code",
   "execution_count": 35,
   "id": "cc3f36da",
   "metadata": {},
   "outputs": [
    {
     "data": {
      "text/plain": [
       "(154, 13)"
      ]
     },
     "execution_count": 35,
     "metadata": {},
     "output_type": "execute_result"
    }
   ],
   "source": [
    "df.shape"
   ]
  },
  {
   "cell_type": "code",
   "execution_count": 36,
   "id": "4968e1f3",
   "metadata": {},
   "outputs": [
    {
     "data": {
      "text/html": [
       "<div>\n",
       "<style scoped>\n",
       "    .dataframe tbody tr th:only-of-type {\n",
       "        vertical-align: middle;\n",
       "    }\n",
       "\n",
       "    .dataframe tbody tr th {\n",
       "        vertical-align: top;\n",
       "    }\n",
       "\n",
       "    .dataframe thead th {\n",
       "        text-align: right;\n",
       "    }\n",
       "</style>\n",
       "<table border=\"1\" class=\"dataframe\">\n",
       "  <thead>\n",
       "    <tr style=\"text-align: right;\">\n",
       "      <th></th>\n",
       "      <th>ID</th>\n",
       "      <th>Unnamed: 1</th>\n",
       "      <th>name</th>\n",
       "      <th>main_category</th>\n",
       "      <th>Unnamed: 4</th>\n",
       "      <th>sub_category</th>\n",
       "      <th>image</th>\n",
       "      <th>link</th>\n",
       "      <th>ratings</th>\n",
       "      <th>no_of_ratings</th>\n",
       "      <th>Unnamed: 10</th>\n",
       "      <th>discount_price</th>\n",
       "      <th>actual_price</th>\n",
       "    </tr>\n",
       "  </thead>\n",
       "  <tbody>\n",
       "    <tr>\n",
       "      <th>0</th>\n",
       "      <td>C001</td>\n",
       "      <td>NaN</td>\n",
       "      <td>SanDisk UltraÂ® microSDXCâ„¢ UHS-I Card, 64GB,...</td>\n",
       "      <td>tv, audio &amp; cameras</td>\n",
       "      <td>NaN</td>\n",
       "      <td>Cameras</td>\n",
       "      <td>https://m.media-amazon.com/images/I/7180ZAZmER...</td>\n",
       "      <td>https://www.amazon.in/SanDisk-Ultra%C2%AE-micr...</td>\n",
       "      <td>4.4</td>\n",
       "      <td>71768.0</td>\n",
       "      <td>NaN</td>\n",
       "      <td>â‚¹488</td>\n",
       "      <td>â‚¹1,000</td>\n",
       "    </tr>\n",
       "    <tr>\n",
       "      <th>1</th>\n",
       "      <td>C002</td>\n",
       "      <td>NaN</td>\n",
       "      <td>Samsung EVO Plus 128GB microSDXC UHS-I U3 130M...</td>\n",
       "      <td>tv, audio &amp; cameras</td>\n",
       "      <td>NaN</td>\n",
       "      <td>Cameras</td>\n",
       "      <td>https://m.media-amazon.com/images/I/61fkOHNmzp...</td>\n",
       "      <td>https://www.amazon.in/Samsung-microSDXC-Memory...</td>\n",
       "      <td>4.3</td>\n",
       "      <td>142840.0</td>\n",
       "      <td>NaN</td>\n",
       "      <td>â‚¹889</td>\n",
       "      <td>â‚¹2,699</td>\n",
       "    </tr>\n",
       "    <tr>\n",
       "      <th>2</th>\n",
       "      <td>C003</td>\n",
       "      <td>NaN</td>\n",
       "      <td>SanDisk UltraÂ® microSDXCâ„¢ UHS-I Card, 128GB...</td>\n",
       "      <td>tv, audio &amp; cameras</td>\n",
       "      <td>NaN</td>\n",
       "      <td>Cameras</td>\n",
       "      <td>https://m.media-amazon.com/images/I/71jsEFJtRR...</td>\n",
       "      <td>https://www.amazon.in/SanDisk-Ultra%C2%AE-micr...</td>\n",
       "      <td>4.4</td>\n",
       "      <td>71768.0</td>\n",
       "      <td>NaN</td>\n",
       "      <td>â‚¹868</td>\n",
       "      <td>â‚¹1,800</td>\n",
       "    </tr>\n",
       "    <tr>\n",
       "      <th>3</th>\n",
       "      <td>C004</td>\n",
       "      <td>NaN</td>\n",
       "      <td>SanDisk Ultra microSD UHS-I Card 32GB, 120MB/s R</td>\n",
       "      <td>tv, audio &amp; cameras</td>\n",
       "      <td>NaN</td>\n",
       "      <td>Cameras</td>\n",
       "      <td>https://m.media-amazon.com/images/I/61MHVeEPw3...</td>\n",
       "      <td>https://www.amazon.in/SanDisk-Ultra-microSD-UH...</td>\n",
       "      <td>4.4</td>\n",
       "      <td>71768.0</td>\n",
       "      <td>NaN</td>\n",
       "      <td>â‚¹369</td>\n",
       "      <td>â‚¹700</td>\n",
       "    </tr>\n",
       "    <tr>\n",
       "      <th>4</th>\n",
       "      <td>C005</td>\n",
       "      <td>NaN</td>\n",
       "      <td>Tygot Adjustable Aluminium Alloy Tripod Stand ...</td>\n",
       "      <td>tv, audio &amp; cameras</td>\n",
       "      <td>NaN</td>\n",
       "      <td>Cameras</td>\n",
       "      <td>https://m.media-amazon.com/images/I/51jx8hycZU...</td>\n",
       "      <td>https://www.amazon.in/Tygot-Adjustable-Alumini...</td>\n",
       "      <td>3.3</td>\n",
       "      <td>53251.0</td>\n",
       "      <td>NaN</td>\n",
       "      <td>â‚¹329</td>\n",
       "      <td>â‚¹1,999</td>\n",
       "    </tr>\n",
       "  </tbody>\n",
       "</table>\n",
       "</div>"
      ],
      "text/plain": [
       "     ID  Unnamed: 1                                               name  \\\n",
       "0  C001         NaN  SanDisk UltraÂ® microSDXCâ„¢ UHS-I Card, 64GB,...   \n",
       "1  C002         NaN  Samsung EVO Plus 128GB microSDXC UHS-I U3 130M...   \n",
       "2  C003         NaN  SanDisk UltraÂ® microSDXCâ„¢ UHS-I Card, 128GB...   \n",
       "3  C004         NaN   SanDisk Ultra microSD UHS-I Card 32GB, 120MB/s R   \n",
       "4  C005         NaN  Tygot Adjustable Aluminium Alloy Tripod Stand ...   \n",
       "\n",
       "         main_category  Unnamed: 4 sub_category  \\\n",
       "0  tv, audio & cameras         NaN      Cameras   \n",
       "1  tv, audio & cameras         NaN      Cameras   \n",
       "2  tv, audio & cameras         NaN      Cameras   \n",
       "3  tv, audio & cameras         NaN      Cameras   \n",
       "4  tv, audio & cameras         NaN      Cameras   \n",
       "\n",
       "                                               image  \\\n",
       "0  https://m.media-amazon.com/images/I/7180ZAZmER...   \n",
       "1  https://m.media-amazon.com/images/I/61fkOHNmzp...   \n",
       "2  https://m.media-amazon.com/images/I/71jsEFJtRR...   \n",
       "3  https://m.media-amazon.com/images/I/61MHVeEPw3...   \n",
       "4  https://m.media-amazon.com/images/I/51jx8hycZU...   \n",
       "\n",
       "                                                link  ratings  no_of_ratings  \\\n",
       "0  https://www.amazon.in/SanDisk-Ultra%C2%AE-micr...      4.4        71768.0   \n",
       "1  https://www.amazon.in/Samsung-microSDXC-Memory...      4.3       142840.0   \n",
       "2  https://www.amazon.in/SanDisk-Ultra%C2%AE-micr...      4.4        71768.0   \n",
       "3  https://www.amazon.in/SanDisk-Ultra-microSD-UH...      4.4        71768.0   \n",
       "4  https://www.amazon.in/Tygot-Adjustable-Alumini...      3.3        53251.0   \n",
       "\n",
       "   Unnamed: 10 discount_price actual_price  \n",
       "0          NaN         â‚¹488     â‚¹1,000  \n",
       "1          NaN         â‚¹889     â‚¹2,699  \n",
       "2          NaN         â‚¹868     â‚¹1,800  \n",
       "3          NaN         â‚¹369       â‚¹700  \n",
       "4          NaN         â‚¹329     â‚¹1,999  "
      ]
     },
     "execution_count": 36,
     "metadata": {},
     "output_type": "execute_result"
    }
   ],
   "source": [
    "df.head(5)"
   ]
  },
  {
   "cell_type": "code",
   "execution_count": 37,
   "id": "4c10973d",
   "metadata": {},
   "outputs": [],
   "source": [
    "df.dropna(how='all', inplace=True)"
   ]
  },
  {
   "cell_type": "code",
   "execution_count": 38,
   "id": "7ec29e5a",
   "metadata": {},
   "outputs": [],
   "source": [
    "df.dropna(axis=1, how='all', inplace=True)"
   ]
  },
  {
   "cell_type": "code",
   "execution_count": 39,
   "id": "25fb9936",
   "metadata": {
    "scrolled": true
   },
   "outputs": [
    {
     "data": {
      "text/plain": [
       "Index(['ID', 'name', 'main_category', 'sub_category', 'image', 'link',\n",
       "       'ratings', 'no_of_ratings', 'discount_price', 'actual_price'],\n",
       "      dtype='object')"
      ]
     },
     "execution_count": 39,
     "metadata": {},
     "output_type": "execute_result"
    }
   ],
   "source": [
    "df.columns"
   ]
  },
  {
   "cell_type": "code",
   "execution_count": 40,
   "id": "9adc9b43",
   "metadata": {},
   "outputs": [],
   "source": [
    "df = df.rename(columns={'ID': 'Camera id'})"
   ]
  },
  {
   "cell_type": "code",
   "execution_count": 41,
   "id": "4f63689e",
   "metadata": {},
   "outputs": [],
   "source": [
    "df.drop(columns=['image', 'link'], inplace=True)"
   ]
  },
  {
   "cell_type": "code",
   "execution_count": 42,
   "id": "0169a59b",
   "metadata": {},
   "outputs": [
    {
     "name": "stdout",
     "output_type": "stream",
     "text": [
      "    Camera id                                               name  \\\n",
      "0        C001  SanDisk UltraÂ® microSDXCâ„¢ UHS-I Card, 64GB,...   \n",
      "1        C002  Samsung EVO Plus 128GB microSDXC UHS-I U3 130M...   \n",
      "2        C003  SanDisk UltraÂ® microSDXCâ„¢ UHS-I Card, 128GB...   \n",
      "3        C004   SanDisk Ultra microSD UHS-I Card 32GB, 120MB/s R   \n",
      "4        C005  Tygot Adjustable Aluminium Alloy Tripod Stand ...   \n",
      "..        ...                                                ...   \n",
      "149      C145  DIGITEKÂ® (DBSK-009FT) Studio Background Stand...   \n",
      "150      C146  Amazon Basics LED Ring Light (14-inch) with Tr...   \n",
      "151      C147  DIGITEKÂ® (DLS-006FT) Lightweight & Portable A...   \n",
      "152      C148  SIDRUM WF-18 DSLR/SLR Camera Shoulder Bag Case...   \n",
      "153      C149  Adofys Mobile Phone Chest Strap Mount GoPro Ch...   \n",
      "\n",
      "           main_category sub_category  ratings  no_of_ratings discount_price  \\\n",
      "0    tv, audio & cameras      Cameras      4.4        71768.0         â‚¹488   \n",
      "1    tv, audio & cameras      Cameras      4.3       142840.0         â‚¹889   \n",
      "2    tv, audio & cameras      Cameras      4.4        71768.0         â‚¹868   \n",
      "3    tv, audio & cameras      Cameras      4.4        71768.0         â‚¹369   \n",
      "4    tv, audio & cameras      Cameras      3.3        53251.0         â‚¹329   \n",
      "..                   ...          ...      ...            ...            ...   \n",
      "149  tv, audio & cameras      Cameras      4.3         6445.0       â‚¹1,999   \n",
      "150  tv, audio & cameras      Cameras      4.5         6493.0       â‚¹1,639   \n",
      "151  tv, audio & cameras      Cameras      4.3         6445.0         â‚¹699   \n",
      "152  tv, audio & cameras      Cameras      4.4          905.0         â‚¹664   \n",
      "153  tv, audio & cameras      Cameras      4.0         1212.0         â‚¹549   \n",
      "\n",
      "    actual_price  \n",
      "0       â‚¹1,000  \n",
      "1       â‚¹2,699  \n",
      "2       â‚¹1,800  \n",
      "3         â‚¹700  \n",
      "4       â‚¹1,999  \n",
      "..           ...  \n",
      "149     â‚¹2,995  \n",
      "150     â‚¹2,999  \n",
      "151       â‚¹995  \n",
      "152       â‚¹899  \n",
      "153     â‚¹1,699  \n",
      "\n",
      "[149 rows x 8 columns]\n"
     ]
    }
   ],
   "source": [
    "print(df)"
   ]
  },
  {
   "cell_type": "code",
   "execution_count": 43,
   "id": "526832f9",
   "metadata": {},
   "outputs": [],
   "source": [
    "df['discount_price'] = df['discount_price'].str.replace(',', '').str.replace('â‚¹', '').astype(float)\n",
    "df['actual_price'] = df['actual_price'].str.replace(',', '').str.replace('â‚¹', '').astype(float)\n"
   ]
  },
  {
   "cell_type": "code",
   "execution_count": 44,
   "id": "08875ef9",
   "metadata": {},
   "outputs": [
    {
     "name": "stdout",
     "output_type": "stream",
     "text": [
      "    Camera id                                               name  \\\n",
      "0        C001  SanDisk UltraÂ® microSDXCâ„¢ UHS-I Card, 64GB,...   \n",
      "1        C002  Samsung EVO Plus 128GB microSDXC UHS-I U3 130M...   \n",
      "2        C003  SanDisk UltraÂ® microSDXCâ„¢ UHS-I Card, 128GB...   \n",
      "3        C004   SanDisk Ultra microSD UHS-I Card 32GB, 120MB/s R   \n",
      "4        C005  Tygot Adjustable Aluminium Alloy Tripod Stand ...   \n",
      "..        ...                                                ...   \n",
      "149      C145  DIGITEKÂ® (DBSK-009FT) Studio Background Stand...   \n",
      "150      C146  Amazon Basics LED Ring Light (14-inch) with Tr...   \n",
      "151      C147  DIGITEKÂ® (DLS-006FT) Lightweight & Portable A...   \n",
      "152      C148  SIDRUM WF-18 DSLR/SLR Camera Shoulder Bag Case...   \n",
      "153      C149  Adofys Mobile Phone Chest Strap Mount GoPro Ch...   \n",
      "\n",
      "           main_category sub_category  ratings  no_of_ratings  discount_price  \\\n",
      "0    tv, audio & cameras      Cameras      4.4        71768.0           488.0   \n",
      "1    tv, audio & cameras      Cameras      4.3       142840.0           889.0   \n",
      "2    tv, audio & cameras      Cameras      4.4        71768.0           868.0   \n",
      "3    tv, audio & cameras      Cameras      4.4        71768.0           369.0   \n",
      "4    tv, audio & cameras      Cameras      3.3        53251.0           329.0   \n",
      "..                   ...          ...      ...            ...             ...   \n",
      "149  tv, audio & cameras      Cameras      4.3         6445.0          1999.0   \n",
      "150  tv, audio & cameras      Cameras      4.5         6493.0          1639.0   \n",
      "151  tv, audio & cameras      Cameras      4.3         6445.0           699.0   \n",
      "152  tv, audio & cameras      Cameras      4.4          905.0           664.0   \n",
      "153  tv, audio & cameras      Cameras      4.0         1212.0           549.0   \n",
      "\n",
      "     actual_price  \n",
      "0          1000.0  \n",
      "1          2699.0  \n",
      "2          1800.0  \n",
      "3           700.0  \n",
      "4          1999.0  \n",
      "..            ...  \n",
      "149        2995.0  \n",
      "150        2999.0  \n",
      "151         995.0  \n",
      "152         899.0  \n",
      "153        1699.0  \n",
      "\n",
      "[149 rows x 8 columns]\n"
     ]
    }
   ],
   "source": [
    "print(df)"
   ]
  },
  {
   "cell_type": "code",
   "execution_count": 45,
   "id": "8594c860",
   "metadata": {},
   "outputs": [
    {
     "name": "stdout",
     "output_type": "stream",
     "text": [
      "Camera id         0\n",
      "name              0\n",
      "main_category     0\n",
      "sub_category      0\n",
      "ratings           0\n",
      "no_of_ratings     0\n",
      "discount_price    8\n",
      "actual_price      1\n",
      "dtype: int64\n"
     ]
    }
   ],
   "source": [
    "print(df.isnull().sum())\n"
   ]
  },
  {
   "cell_type": "code",
   "execution_count": 46,
   "id": "5c803440",
   "metadata": {},
   "outputs": [],
   "source": [
    "\n",
    "df['discount_price'] = df['discount_price'].fillna(df['discount_price'].mean())\n",
    "df['actual_price'] = df['actual_price'].fillna(df['actual_price'].mean())\n"
   ]
  },
  {
   "cell_type": "code",
   "execution_count": 47,
   "id": "93203857",
   "metadata": {},
   "outputs": [
    {
     "name": "stdout",
     "output_type": "stream",
     "text": [
      "    Camera id                                               name  \\\n",
      "0        C001  SanDisk UltraÂ® microSDXCâ„¢ UHS-I Card, 64GB,...   \n",
      "1        C002  Samsung EVO Plus 128GB microSDXC UHS-I U3 130M...   \n",
      "2        C003  SanDisk UltraÂ® microSDXCâ„¢ UHS-I Card, 128GB...   \n",
      "3        C004   SanDisk Ultra microSD UHS-I Card 32GB, 120MB/s R   \n",
      "4        C005  Tygot Adjustable Aluminium Alloy Tripod Stand ...   \n",
      "..        ...                                                ...   \n",
      "149      C145  DIGITEKÂ® (DBSK-009FT) Studio Background Stand...   \n",
      "150      C146  Amazon Basics LED Ring Light (14-inch) with Tr...   \n",
      "151      C147  DIGITEKÂ® (DLS-006FT) Lightweight & Portable A...   \n",
      "152      C148  SIDRUM WF-18 DSLR/SLR Camera Shoulder Bag Case...   \n",
      "153      C149  Adofys Mobile Phone Chest Strap Mount GoPro Ch...   \n",
      "\n",
      "           main_category sub_category  ratings  no_of_ratings  discount_price  \\\n",
      "0    tv, audio & cameras      Cameras      4.4        71768.0           488.0   \n",
      "1    tv, audio & cameras      Cameras      4.3       142840.0           889.0   \n",
      "2    tv, audio & cameras      Cameras      4.4        71768.0           868.0   \n",
      "3    tv, audio & cameras      Cameras      4.4        71768.0           369.0   \n",
      "4    tv, audio & cameras      Cameras      3.3        53251.0           329.0   \n",
      "..                   ...          ...      ...            ...             ...   \n",
      "149  tv, audio & cameras      Cameras      4.3         6445.0          1999.0   \n",
      "150  tv, audio & cameras      Cameras      4.5         6493.0          1639.0   \n",
      "151  tv, audio & cameras      Cameras      4.3         6445.0           699.0   \n",
      "152  tv, audio & cameras      Cameras      4.4          905.0           664.0   \n",
      "153  tv, audio & cameras      Cameras      4.0         1212.0           549.0   \n",
      "\n",
      "     actual_price  \n",
      "0          1000.0  \n",
      "1          2699.0  \n",
      "2          1800.0  \n",
      "3           700.0  \n",
      "4          1999.0  \n",
      "..            ...  \n",
      "149        2995.0  \n",
      "150        2999.0  \n",
      "151         995.0  \n",
      "152         899.0  \n",
      "153        1699.0  \n",
      "\n",
      "[149 rows x 8 columns]\n"
     ]
    }
   ],
   "source": [
    "print(df)"
   ]
  },
  {
   "cell_type": "code",
   "execution_count": 48,
   "id": "ed0c45b5",
   "metadata": {},
   "outputs": [],
   "source": [
    "df['savings'] = df['actual_price'] - df['discount_price']"
   ]
  },
  {
   "cell_type": "code",
   "execution_count": 49,
   "id": "68771593",
   "metadata": {},
   "outputs": [],
   "source": [
    "df.to_excel(\"C:\\\\Users\\\\14375\\\\Downloads\\\\sql project data\\\\cameras_dIM_clean.xlsx\", index=False)\n"
   ]
  },
  {
   "cell_type": "code",
   "execution_count": null,
   "id": "0abfcd5c",
   "metadata": {},
   "outputs": [],
   "source": []
  },
  {
   "cell_type": "code",
   "execution_count": null,
   "id": "89a6c7f3",
   "metadata": {},
   "outputs": [],
   "source": []
  },
  {
   "cell_type": "code",
   "execution_count": null,
   "id": "6c1bde71",
   "metadata": {},
   "outputs": [],
   "source": []
  },
  {
   "cell_type": "code",
   "execution_count": null,
   "id": "1a25257f",
   "metadata": {},
   "outputs": [],
   "source": []
  }
 ],
 "metadata": {
  "kernelspec": {
   "display_name": "Python 3 (ipykernel)",
   "language": "python",
   "name": "python3"
  },
  "language_info": {
   "codemirror_mode": {
    "name": "ipython",
    "version": 3
   },
   "file_extension": ".py",
   "mimetype": "text/x-python",
   "name": "python",
   "nbconvert_exporter": "python",
   "pygments_lexer": "ipython3",
   "version": "3.9.13"
  }
 },
 "nbformat": 4,
 "nbformat_minor": 5
}
