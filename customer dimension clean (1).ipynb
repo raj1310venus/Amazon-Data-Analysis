{
 "cells": [
  {
   "cell_type": "code",
   "execution_count": 1,
   "id": "b7289d45",
   "metadata": {},
   "outputs": [],
   "source": [
    "import pandas as pd\n",
    "import numpy as np"
   ]
  },
  {
   "cell_type": "code",
   "execution_count": 2,
   "id": "22c09165",
   "metadata": {},
   "outputs": [],
   "source": [
    "#loading the dataset\n",
    "df = pd.read_excel(\"C:\\\\Users\\\\14375\\\\Downloads\\\\sql project data\\\\CUSTOMER DIMENSION.xlsx\" ,skiprows=3, header=1)"
   ]
  },
  {
   "cell_type": "code",
   "execution_count": 3,
   "id": "ee8801b9",
   "metadata": {},
   "outputs": [
    {
     "name": "stdout",
     "output_type": "stream",
     "text": [
      "<class 'pandas.core.frame.DataFrame'>\n",
      "RangeIndex: 99 entries, 0 to 98\n",
      "Data columns (total 7 columns):\n",
      " #   Column       Non-Null Count  Dtype  \n",
      "---  ------       --------------  -----  \n",
      " 0   customer id  94 non-null     object \n",
      " 1   Unnamed: 1   0 non-null      float64\n",
      " 2   Name         94 non-null     object \n",
      " 3   Location     94 non-null     object \n",
      " 4   Column1      0 non-null      float64\n",
      " 5   Age          87 non-null     float64\n",
      " 6   Gender       94 non-null     object \n",
      "dtypes: float64(3), object(4)\n",
      "memory usage: 5.5+ KB\n"
     ]
    }
   ],
   "source": [
    "df.info()"
   ]
  },
  {
   "cell_type": "code",
   "execution_count": 4,
   "id": "68f7dadc",
   "metadata": {},
   "outputs": [
    {
     "data": {
      "text/html": [
       "<div>\n",
       "<style scoped>\n",
       "    .dataframe tbody tr th:only-of-type {\n",
       "        vertical-align: middle;\n",
       "    }\n",
       "\n",
       "    .dataframe tbody tr th {\n",
       "        vertical-align: top;\n",
       "    }\n",
       "\n",
       "    .dataframe thead th {\n",
       "        text-align: right;\n",
       "    }\n",
       "</style>\n",
       "<table border=\"1\" class=\"dataframe\">\n",
       "  <thead>\n",
       "    <tr style=\"text-align: right;\">\n",
       "      <th></th>\n",
       "      <th>Unnamed: 1</th>\n",
       "      <th>Column1</th>\n",
       "      <th>Age</th>\n",
       "    </tr>\n",
       "  </thead>\n",
       "  <tbody>\n",
       "    <tr>\n",
       "      <th>count</th>\n",
       "      <td>0.0</td>\n",
       "      <td>0.0</td>\n",
       "      <td>87.000000</td>\n",
       "    </tr>\n",
       "    <tr>\n",
       "      <th>mean</th>\n",
       "      <td>NaN</td>\n",
       "      <td>NaN</td>\n",
       "      <td>28.850575</td>\n",
       "    </tr>\n",
       "    <tr>\n",
       "      <th>std</th>\n",
       "      <td>NaN</td>\n",
       "      <td>NaN</td>\n",
       "      <td>6.535287</td>\n",
       "    </tr>\n",
       "    <tr>\n",
       "      <th>min</th>\n",
       "      <td>NaN</td>\n",
       "      <td>NaN</td>\n",
       "      <td>18.000000</td>\n",
       "    </tr>\n",
       "    <tr>\n",
       "      <th>25%</th>\n",
       "      <td>NaN</td>\n",
       "      <td>NaN</td>\n",
       "      <td>24.000000</td>\n",
       "    </tr>\n",
       "    <tr>\n",
       "      <th>50%</th>\n",
       "      <td>NaN</td>\n",
       "      <td>NaN</td>\n",
       "      <td>28.000000</td>\n",
       "    </tr>\n",
       "    <tr>\n",
       "      <th>75%</th>\n",
       "      <td>NaN</td>\n",
       "      <td>NaN</td>\n",
       "      <td>33.000000</td>\n",
       "    </tr>\n",
       "    <tr>\n",
       "      <th>max</th>\n",
       "      <td>NaN</td>\n",
       "      <td>NaN</td>\n",
       "      <td>44.000000</td>\n",
       "    </tr>\n",
       "  </tbody>\n",
       "</table>\n",
       "</div>"
      ],
      "text/plain": [
       "       Unnamed: 1  Column1        Age\n",
       "count         0.0      0.0  87.000000\n",
       "mean          NaN      NaN  28.850575\n",
       "std           NaN      NaN   6.535287\n",
       "min           NaN      NaN  18.000000\n",
       "25%           NaN      NaN  24.000000\n",
       "50%           NaN      NaN  28.000000\n",
       "75%           NaN      NaN  33.000000\n",
       "max           NaN      NaN  44.000000"
      ]
     },
     "execution_count": 4,
     "metadata": {},
     "output_type": "execute_result"
    }
   ],
   "source": [
    "df.describe()"
   ]
  },
  {
   "cell_type": "code",
   "execution_count": 5,
   "id": "40107d77",
   "metadata": {},
   "outputs": [
    {
     "data": {
      "text/plain": [
       "(99, 7)"
      ]
     },
     "execution_count": 5,
     "metadata": {},
     "output_type": "execute_result"
    }
   ],
   "source": [
    "df.shape"
   ]
  },
  {
   "cell_type": "code",
   "execution_count": 6,
   "id": "6997d65b",
   "metadata": {},
   "outputs": [
    {
     "data": {
      "text/html": [
       "<div>\n",
       "<style scoped>\n",
       "    .dataframe tbody tr th:only-of-type {\n",
       "        vertical-align: middle;\n",
       "    }\n",
       "\n",
       "    .dataframe tbody tr th {\n",
       "        vertical-align: top;\n",
       "    }\n",
       "\n",
       "    .dataframe thead th {\n",
       "        text-align: right;\n",
       "    }\n",
       "</style>\n",
       "<table border=\"1\" class=\"dataframe\">\n",
       "  <thead>\n",
       "    <tr style=\"text-align: right;\">\n",
       "      <th></th>\n",
       "      <th>customer id</th>\n",
       "      <th>Unnamed: 1</th>\n",
       "      <th>Name</th>\n",
       "      <th>Location</th>\n",
       "      <th>Column1</th>\n",
       "      <th>Age</th>\n",
       "      <th>Gender</th>\n",
       "    </tr>\n",
       "  </thead>\n",
       "  <tbody>\n",
       "    <tr>\n",
       "      <th>0</th>\n",
       "      <td>CI001</td>\n",
       "      <td>NaN</td>\n",
       "      <td>Aarav</td>\n",
       "      <td>Delhi</td>\n",
       "      <td>NaN</td>\n",
       "      <td>28.0</td>\n",
       "      <td>Male</td>\n",
       "    </tr>\n",
       "    <tr>\n",
       "      <th>1</th>\n",
       "      <td>CI002</td>\n",
       "      <td>NaN</td>\n",
       "      <td>Aarya</td>\n",
       "      <td>Bengaluru</td>\n",
       "      <td>NaN</td>\n",
       "      <td>31.0</td>\n",
       "      <td>Female</td>\n",
       "    </tr>\n",
       "    <tr>\n",
       "      <th>2</th>\n",
       "      <td>CI003</td>\n",
       "      <td>NaN</td>\n",
       "      <td>Aashna</td>\n",
       "      <td>Jaipur</td>\n",
       "      <td>NaN</td>\n",
       "      <td>36.0</td>\n",
       "      <td>Female</td>\n",
       "    </tr>\n",
       "    <tr>\n",
       "      <th>3</th>\n",
       "      <td>CI004</td>\n",
       "      <td>NaN</td>\n",
       "      <td>Aastha</td>\n",
       "      <td>Lucknow</td>\n",
       "      <td>NaN</td>\n",
       "      <td>24.0</td>\n",
       "      <td>Female</td>\n",
       "    </tr>\n",
       "    <tr>\n",
       "      <th>4</th>\n",
       "      <td>CI005</td>\n",
       "      <td>NaN</td>\n",
       "      <td>Abhay</td>\n",
       "      <td>Chennai</td>\n",
       "      <td>NaN</td>\n",
       "      <td>33.0</td>\n",
       "      <td>Male</td>\n",
       "    </tr>\n",
       "  </tbody>\n",
       "</table>\n",
       "</div>"
      ],
      "text/plain": [
       "  customer id  Unnamed: 1    Name   Location  Column1   Age  Gender\n",
       "0       CI001         NaN   Aarav      Delhi      NaN  28.0    Male\n",
       "1       CI002         NaN   Aarya  Bengaluru      NaN  31.0  Female\n",
       "2       CI003         NaN  Aashna     Jaipur      NaN  36.0  Female\n",
       "3       CI004         NaN  Aastha    Lucknow      NaN  24.0  Female\n",
       "4       CI005         NaN   Abhay    Chennai      NaN  33.0    Male"
      ]
     },
     "execution_count": 6,
     "metadata": {},
     "output_type": "execute_result"
    }
   ],
   "source": [
    "df.head(5)"
   ]
  },
  {
   "cell_type": "code",
   "execution_count": 7,
   "id": "5054165c",
   "metadata": {},
   "outputs": [],
   "source": [
    "df.dropna(how='all', inplace=True)"
   ]
  },
  {
   "cell_type": "code",
   "execution_count": 8,
   "id": "7b44b1dd",
   "metadata": {},
   "outputs": [],
   "source": [
    "df.dropna(axis=1, how='all', inplace=True)"
   ]
  },
  {
   "cell_type": "code",
   "execution_count": 9,
   "id": "2401b99e",
   "metadata": {
    "scrolled": true
   },
   "outputs": [
    {
     "data": {
      "text/plain": [
       "Index(['customer id', 'Name', 'Location', 'Age', 'Gender'], dtype='object')"
      ]
     },
     "execution_count": 9,
     "metadata": {},
     "output_type": "execute_result"
    }
   ],
   "source": [
    "df.columns"
   ]
  },
  {
   "cell_type": "code",
   "execution_count": 10,
   "id": "aa5c312c",
   "metadata": {},
   "outputs": [],
   "source": [
    "df = df.rename(columns={'customer id': 'Customer id'})"
   ]
  },
  {
   "cell_type": "code",
   "execution_count": 11,
   "id": "504183d8",
   "metadata": {
    "scrolled": true
   },
   "outputs": [
    {
     "name": "stdout",
     "output_type": "stream",
     "text": [
      "   Customer id    Name   Location   Age  Gender\n",
      "0        CI001   Aarav      Delhi  28.0    Male\n",
      "1        CI002   Aarya  Bengaluru  31.0  Female\n",
      "2        CI003  Aashna     Jaipur  36.0  Female\n",
      "3        CI004  Aastha    Lucknow  24.0  Female\n",
      "4        CI005   Abhay    Chennai  33.0    Male\n",
      "..         ...     ...        ...   ...     ...\n",
      "94       CI090   Mansi  Ahmedabad  30.0  Female\n",
      "95       CI091  Mayank      Delhi  25.0    Male\n",
      "96       CI092   Meera  Bengaluru  33.0  Female\n",
      "97       CI093    Meha    Chennai  21.0  Female\n",
      "98       CI094   Mohak  Hyderabad  24.0    Male\n",
      "\n",
      "[94 rows x 5 columns]\n"
     ]
    }
   ],
   "source": [
    "print(df)"
   ]
  },
  {
   "cell_type": "code",
   "execution_count": 12,
   "id": "e6e0a106",
   "metadata": {},
   "outputs": [
    {
     "name": "stdout",
     "output_type": "stream",
     "text": [
      "   Customer id    Name   Location   Age  Gender\n",
      "0        CI001   Aarav      Delhi  28.0    Male\n",
      "1        CI002   Aarya  Bengaluru  31.0  Female\n",
      "2        CI003  Aashna     Jaipur  36.0  Female\n",
      "3        CI004  Aastha    Lucknow  24.0  Female\n",
      "4        CI005   Abhay    Chennai  33.0    Male\n",
      "..         ...     ...        ...   ...     ...\n",
      "94       CI090   Mansi  Ahmedabad  30.0  Female\n",
      "95       CI091  Mayank      Delhi  25.0    Male\n",
      "96       CI092   Meera  Bengaluru  33.0  Female\n",
      "97       CI093    Meha    Chennai  21.0  Female\n",
      "98       CI094   Mohak  Hyderabad  24.0    Male\n",
      "\n",
      "[94 rows x 5 columns]\n"
     ]
    }
   ],
   "source": [
    "print(df)"
   ]
  },
  {
   "cell_type": "code",
   "execution_count": 13,
   "id": "500cb50a",
   "metadata": {},
   "outputs": [
    {
     "name": "stdout",
     "output_type": "stream",
     "text": [
      "Customer id    0\n",
      "Name           0\n",
      "Location       0\n",
      "Age            7\n",
      "Gender         0\n",
      "dtype: int64\n"
     ]
    }
   ],
   "source": [
    "print(df.isnull().sum())\n"
   ]
  },
  {
   "cell_type": "code",
   "execution_count": 14,
   "id": "57d169d8",
   "metadata": {},
   "outputs": [],
   "source": [
    "\n",
    "df['Age'] = df['Age'].fillna(df['Age'].mean())\n",
    "\n"
   ]
  },
  {
   "cell_type": "code",
   "execution_count": 15,
   "id": "36d0b105",
   "metadata": {},
   "outputs": [
    {
     "name": "stdout",
     "output_type": "stream",
     "text": [
      "   Customer id    Name   Location   Age  Gender\n",
      "0        CI001   Aarav      Delhi  28.0    Male\n",
      "1        CI002   Aarya  Bengaluru  31.0  Female\n",
      "2        CI003  Aashna     Jaipur  36.0  Female\n",
      "3        CI004  Aastha    Lucknow  24.0  Female\n",
      "4        CI005   Abhay    Chennai  33.0    Male\n",
      "..         ...     ...        ...   ...     ...\n",
      "94       CI090   Mansi  Ahmedabad  30.0  Female\n",
      "95       CI091  Mayank      Delhi  25.0    Male\n",
      "96       CI092   Meera  Bengaluru  33.0  Female\n",
      "97       CI093    Meha    Chennai  21.0  Female\n",
      "98       CI094   Mohak  Hyderabad  24.0    Male\n",
      "\n",
      "[94 rows x 5 columns]\n"
     ]
    }
   ],
   "source": [
    "print(df)"
   ]
  },
  {
   "cell_type": "code",
   "execution_count": 16,
   "id": "21e6065c",
   "metadata": {},
   "outputs": [],
   "source": [
    "df.to_excel(\"C:\\\\Users\\\\14375\\\\Downloads\\\\sql project data\\\\CUSTOMER_dIM_clean.xlsx\", index=False)\n"
   ]
  },
  {
   "cell_type": "code",
   "execution_count": null,
   "id": "cba249bb",
   "metadata": {},
   "outputs": [],
   "source": []
  },
  {
   "cell_type": "code",
   "execution_count": null,
   "id": "1e73d727",
   "metadata": {},
   "outputs": [],
   "source": []
  },
  {
   "cell_type": "code",
   "execution_count": null,
   "id": "108ef0cc",
   "metadata": {},
   "outputs": [],
   "source": []
  },
  {
   "cell_type": "code",
   "execution_count": null,
   "id": "e69b59a3",
   "metadata": {},
   "outputs": [],
   "source": []
  }
 ],
 "metadata": {
  "kernelspec": {
   "display_name": "Python 3 (ipykernel)",
   "language": "python",
   "name": "python3"
  },
  "language_info": {
   "codemirror_mode": {
    "name": "ipython",
    "version": 3
   },
   "file_extension": ".py",
   "mimetype": "text/x-python",
   "name": "python",
   "nbconvert_exporter": "python",
   "pygments_lexer": "ipython3",
   "version": "3.9.13"
  }
 },
 "nbformat": 4,
 "nbformat_minor": 5
}
