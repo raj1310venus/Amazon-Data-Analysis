{
 "cells": [
  {
   "cell_type": "code",
   "execution_count": 1,
   "id": "dc7d3b55",
   "metadata": {},
   "outputs": [],
   "source": [
    "import pandas as pd\n",
    "import numpy as np"
   ]
  },
  {
   "cell_type": "code",
   "execution_count": 2,
   "id": "a16725ab",
   "metadata": {},
   "outputs": [],
   "source": [
    "#loading the dataset\n",
    "df = pd.read_excel(\"C:\\\\Users\\\\14375\\\\Downloads\\\\sql project data\\\\All Electronics dimension.xlsx\", skiprows=1, header=1)"
   ]
  },
  {
   "cell_type": "code",
   "execution_count": 3,
   "id": "67915ea6",
   "metadata": {},
   "outputs": [
    {
     "name": "stdout",
     "output_type": "stream",
     "text": [
      "<class 'pandas.core.frame.DataFrame'>\n",
      "RangeIndex: 154 entries, 0 to 153\n",
      "Data columns (total 13 columns):\n",
      " #   Column          Non-Null Count  Dtype  \n",
      "---  ------          --------------  -----  \n",
      " 0   Unnamed: 0      0 non-null      float64\n",
      " 1   ID              149 non-null    object \n",
      " 2   name            149 non-null    object \n",
      " 3   main_category   149 non-null    object \n",
      " 4   sub_category    149 non-null    object \n",
      " 5   Unnamed: 5      0 non-null      float64\n",
      " 6   image           149 non-null    object \n",
      " 7   link            149 non-null    object \n",
      " 8   Unnamed: 8      0 non-null      float64\n",
      " 9   ratings         149 non-null    object \n",
      " 10  no_of_ratings   149 non-null    object \n",
      " 11  discount_price  134 non-null    object \n",
      " 12  actual_price    148 non-null    object \n",
      "dtypes: float64(3), object(10)\n",
      "memory usage: 15.8+ KB\n"
     ]
    }
   ],
   "source": [
    "df.info()"
   ]
  },
  {
   "cell_type": "code",
   "execution_count": 4,
   "id": "59cb4158",
   "metadata": {},
   "outputs": [
    {
     "data": {
      "text/html": [
       "<div>\n",
       "<style scoped>\n",
       "    .dataframe tbody tr th:only-of-type {\n",
       "        vertical-align: middle;\n",
       "    }\n",
       "\n",
       "    .dataframe tbody tr th {\n",
       "        vertical-align: top;\n",
       "    }\n",
       "\n",
       "    .dataframe thead th {\n",
       "        text-align: right;\n",
       "    }\n",
       "</style>\n",
       "<table border=\"1\" class=\"dataframe\">\n",
       "  <thead>\n",
       "    <tr style=\"text-align: right;\">\n",
       "      <th></th>\n",
       "      <th>Unnamed: 0</th>\n",
       "      <th>Unnamed: 5</th>\n",
       "      <th>Unnamed: 8</th>\n",
       "    </tr>\n",
       "  </thead>\n",
       "  <tbody>\n",
       "    <tr>\n",
       "      <th>count</th>\n",
       "      <td>0.0</td>\n",
       "      <td>0.0</td>\n",
       "      <td>0.0</td>\n",
       "    </tr>\n",
       "    <tr>\n",
       "      <th>mean</th>\n",
       "      <td>NaN</td>\n",
       "      <td>NaN</td>\n",
       "      <td>NaN</td>\n",
       "    </tr>\n",
       "    <tr>\n",
       "      <th>std</th>\n",
       "      <td>NaN</td>\n",
       "      <td>NaN</td>\n",
       "      <td>NaN</td>\n",
       "    </tr>\n",
       "    <tr>\n",
       "      <th>min</th>\n",
       "      <td>NaN</td>\n",
       "      <td>NaN</td>\n",
       "      <td>NaN</td>\n",
       "    </tr>\n",
       "    <tr>\n",
       "      <th>25%</th>\n",
       "      <td>NaN</td>\n",
       "      <td>NaN</td>\n",
       "      <td>NaN</td>\n",
       "    </tr>\n",
       "    <tr>\n",
       "      <th>50%</th>\n",
       "      <td>NaN</td>\n",
       "      <td>NaN</td>\n",
       "      <td>NaN</td>\n",
       "    </tr>\n",
       "    <tr>\n",
       "      <th>75%</th>\n",
       "      <td>NaN</td>\n",
       "      <td>NaN</td>\n",
       "      <td>NaN</td>\n",
       "    </tr>\n",
       "    <tr>\n",
       "      <th>max</th>\n",
       "      <td>NaN</td>\n",
       "      <td>NaN</td>\n",
       "      <td>NaN</td>\n",
       "    </tr>\n",
       "  </tbody>\n",
       "</table>\n",
       "</div>"
      ],
      "text/plain": [
       "       Unnamed: 0  Unnamed: 5  Unnamed: 8\n",
       "count         0.0         0.0         0.0\n",
       "mean          NaN         NaN         NaN\n",
       "std           NaN         NaN         NaN\n",
       "min           NaN         NaN         NaN\n",
       "25%           NaN         NaN         NaN\n",
       "50%           NaN         NaN         NaN\n",
       "75%           NaN         NaN         NaN\n",
       "max           NaN         NaN         NaN"
      ]
     },
     "execution_count": 4,
     "metadata": {},
     "output_type": "execute_result"
    }
   ],
   "source": [
    "df.describe()"
   ]
  },
  {
   "cell_type": "code",
   "execution_count": 5,
   "id": "dc851bba",
   "metadata": {},
   "outputs": [
    {
     "data": {
      "text/plain": [
       "(154, 13)"
      ]
     },
     "execution_count": 5,
     "metadata": {},
     "output_type": "execute_result"
    }
   ],
   "source": [
    "df.shape"
   ]
  },
  {
   "cell_type": "code",
   "execution_count": 6,
   "id": "7448f922",
   "metadata": {},
   "outputs": [
    {
     "data": {
      "text/html": [
       "<div>\n",
       "<style scoped>\n",
       "    .dataframe tbody tr th:only-of-type {\n",
       "        vertical-align: middle;\n",
       "    }\n",
       "\n",
       "    .dataframe tbody tr th {\n",
       "        vertical-align: top;\n",
       "    }\n",
       "\n",
       "    .dataframe thead th {\n",
       "        text-align: right;\n",
       "    }\n",
       "</style>\n",
       "<table border=\"1\" class=\"dataframe\">\n",
       "  <thead>\n",
       "    <tr style=\"text-align: right;\">\n",
       "      <th></th>\n",
       "      <th>Unnamed: 0</th>\n",
       "      <th>ID</th>\n",
       "      <th>name</th>\n",
       "      <th>main_category</th>\n",
       "      <th>sub_category</th>\n",
       "      <th>Unnamed: 5</th>\n",
       "      <th>image</th>\n",
       "      <th>link</th>\n",
       "      <th>Unnamed: 8</th>\n",
       "      <th>ratings</th>\n",
       "      <th>no_of_ratings</th>\n",
       "      <th>discount_price</th>\n",
       "      <th>actual_price</th>\n",
       "    </tr>\n",
       "  </thead>\n",
       "  <tbody>\n",
       "    <tr>\n",
       "      <th>0</th>\n",
       "      <td>NaN</td>\n",
       "      <td>AE001</td>\n",
       "      <td>Redmi 10 Power (Power Black, 8GB RAM, 128GB St...</td>\n",
       "      <td>tv, audio &amp; cameras</td>\n",
       "      <td>All Electronics</td>\n",
       "      <td>NaN</td>\n",
       "      <td>https://m.media-amazon.com/images/I/81eM15lVcJ...</td>\n",
       "      <td>https://www.amazon.in/Redmi-Power-Black-128GB-...</td>\n",
       "      <td>NaN</td>\n",
       "      <td>4</td>\n",
       "      <td>965</td>\n",
       "      <td>â‚¹10,999</td>\n",
       "      <td>â‚¹18,999</td>\n",
       "    </tr>\n",
       "    <tr>\n",
       "      <th>1</th>\n",
       "      <td>NaN</td>\n",
       "      <td>AE002</td>\n",
       "      <td>OnePlus Nord CE 2 Lite 5G (Blue Tide, 6GB RAM,...</td>\n",
       "      <td>tv, audio &amp; cameras</td>\n",
       "      <td>All Electronics</td>\n",
       "      <td>NaN</td>\n",
       "      <td>https://m.media-amazon.com/images/I/71AvQd3Vzq...</td>\n",
       "      <td>https://www.amazon.in/OnePlus-Nord-Lite-128GB-...</td>\n",
       "      <td>NaN</td>\n",
       "      <td>4.3</td>\n",
       "      <td>113956</td>\n",
       "      <td>â‚¹18,999</td>\n",
       "      <td>â‚¹19,999</td>\n",
       "    </tr>\n",
       "    <tr>\n",
       "      <th>2</th>\n",
       "      <td>NaN</td>\n",
       "      <td>AE003</td>\n",
       "      <td>OnePlus Bullets Z2 Bluetooth Wireless in Ear E...</td>\n",
       "      <td>tv, audio &amp; cameras</td>\n",
       "      <td>All Electronics</td>\n",
       "      <td>NaN</td>\n",
       "      <td>https://m.media-amazon.com/images/I/51UhwaQXCp...</td>\n",
       "      <td>https://www.amazon.in/Oneplus-Bluetooth-Wirele...</td>\n",
       "      <td>NaN</td>\n",
       "      <td>4.2</td>\n",
       "      <td>90304</td>\n",
       "      <td>â‚¹1,999</td>\n",
       "      <td>â‚¹2,299</td>\n",
       "    </tr>\n",
       "    <tr>\n",
       "      <th>3</th>\n",
       "      <td>NaN</td>\n",
       "      <td>AE004</td>\n",
       "      <td>Samsung Galaxy M33 5G (Mystique Green, 6GB, 12...</td>\n",
       "      <td>tv, audio &amp; cameras</td>\n",
       "      <td>All Electronics</td>\n",
       "      <td>NaN</td>\n",
       "      <td>https://m.media-amazon.com/images/I/81I3w4J6yj...</td>\n",
       "      <td>https://www.amazon.in/Samsung-Mystique-Storage...</td>\n",
       "      <td>NaN</td>\n",
       "      <td>4.1</td>\n",
       "      <td>24863</td>\n",
       "      <td>â‚¹15,999</td>\n",
       "      <td>â‚¹24,999</td>\n",
       "    </tr>\n",
       "    <tr>\n",
       "      <th>4</th>\n",
       "      <td>NaN</td>\n",
       "      <td>AE005</td>\n",
       "      <td>OnePlus Nord CE 2 Lite 5G (Black Dusk, 6GB RAM...</td>\n",
       "      <td>tv, audio &amp; cameras</td>\n",
       "      <td>All Electronics</td>\n",
       "      <td>NaN</td>\n",
       "      <td>https://m.media-amazon.com/images/I/71V--WZVUI...</td>\n",
       "      <td>https://www.amazon.in/OnePlus-Nord-Black-128GB...</td>\n",
       "      <td>NaN</td>\n",
       "      <td>4.3</td>\n",
       "      <td>113956</td>\n",
       "      <td>â‚¹18,999</td>\n",
       "      <td>â‚¹19,999</td>\n",
       "    </tr>\n",
       "  </tbody>\n",
       "</table>\n",
       "</div>"
      ],
      "text/plain": [
       "   Unnamed: 0     ID                                               name  \\\n",
       "0         NaN  AE001  Redmi 10 Power (Power Black, 8GB RAM, 128GB St...   \n",
       "1         NaN  AE002  OnePlus Nord CE 2 Lite 5G (Blue Tide, 6GB RAM,...   \n",
       "2         NaN  AE003  OnePlus Bullets Z2 Bluetooth Wireless in Ear E...   \n",
       "3         NaN  AE004  Samsung Galaxy M33 5G (Mystique Green, 6GB, 12...   \n",
       "4         NaN  AE005  OnePlus Nord CE 2 Lite 5G (Black Dusk, 6GB RAM...   \n",
       "\n",
       "         main_category     sub_category  Unnamed: 5  \\\n",
       "0  tv, audio & cameras  All Electronics         NaN   \n",
       "1  tv, audio & cameras  All Electronics         NaN   \n",
       "2  tv, audio & cameras  All Electronics         NaN   \n",
       "3  tv, audio & cameras  All Electronics         NaN   \n",
       "4  tv, audio & cameras  All Electronics         NaN   \n",
       "\n",
       "                                               image  \\\n",
       "0  https://m.media-amazon.com/images/I/81eM15lVcJ...   \n",
       "1  https://m.media-amazon.com/images/I/71AvQd3Vzq...   \n",
       "2  https://m.media-amazon.com/images/I/51UhwaQXCp...   \n",
       "3  https://m.media-amazon.com/images/I/81I3w4J6yj...   \n",
       "4  https://m.media-amazon.com/images/I/71V--WZVUI...   \n",
       "\n",
       "                                                link  Unnamed: 8 ratings  \\\n",
       "0  https://www.amazon.in/Redmi-Power-Black-128GB-...         NaN       4   \n",
       "1  https://www.amazon.in/OnePlus-Nord-Lite-128GB-...         NaN     4.3   \n",
       "2  https://www.amazon.in/Oneplus-Bluetooth-Wirele...         NaN     4.2   \n",
       "3  https://www.amazon.in/Samsung-Mystique-Storage...         NaN     4.1   \n",
       "4  https://www.amazon.in/OnePlus-Nord-Black-128GB...         NaN     4.3   \n",
       "\n",
       "  no_of_ratings discount_price actual_price  \n",
       "0           965      â‚¹10,999    â‚¹18,999  \n",
       "1        113956      â‚¹18,999    â‚¹19,999  \n",
       "2         90304       â‚¹1,999     â‚¹2,299  \n",
       "3         24863      â‚¹15,999    â‚¹24,999  \n",
       "4        113956      â‚¹18,999    â‚¹19,999  "
      ]
     },
     "execution_count": 6,
     "metadata": {},
     "output_type": "execute_result"
    }
   ],
   "source": [
    "df.head(5)"
   ]
  },
  {
   "cell_type": "code",
   "execution_count": 7,
   "id": "55192de9",
   "metadata": {},
   "outputs": [],
   "source": [
    "df.dropna(how='all', inplace=True)"
   ]
  },
  {
   "cell_type": "code",
   "execution_count": 8,
   "id": "c799f2a0",
   "metadata": {},
   "outputs": [],
   "source": [
    "df.dropna(axis=1, how='all', inplace=True)"
   ]
  },
  {
   "cell_type": "code",
   "execution_count": 9,
   "id": "c2cc3850",
   "metadata": {},
   "outputs": [
    {
     "data": {
      "text/plain": [
       "Index(['ID', 'name', 'main_category', 'sub_category', 'image', 'link',\n",
       "       'ratings', 'no_of_ratings', 'discount_price', 'actual_price'],\n",
       "      dtype='object')"
      ]
     },
     "execution_count": 9,
     "metadata": {},
     "output_type": "execute_result"
    }
   ],
   "source": [
    "df.columns"
   ]
  },
  {
   "cell_type": "code",
   "execution_count": 10,
   "id": "650a693f",
   "metadata": {},
   "outputs": [],
   "source": [
    "df = df.rename(columns={'ID': 'Electronic id'})"
   ]
  },
  {
   "cell_type": "code",
   "execution_count": 11,
   "id": "7bf659f4",
   "metadata": {},
   "outputs": [],
   "source": [
    "df.drop(columns=['image', 'link'], inplace=True)"
   ]
  },
  {
   "cell_type": "code",
   "execution_count": 12,
   "id": "e7bef487",
   "metadata": {},
   "outputs": [
    {
     "name": "stdout",
     "output_type": "stream",
     "text": [
      "    Electronic id                                               name  \\\n",
      "0           AE001  Redmi 10 Power (Power Black, 8GB RAM, 128GB St...   \n",
      "1           AE002  OnePlus Nord CE 2 Lite 5G (Blue Tide, 6GB RAM,...   \n",
      "2           AE003  OnePlus Bullets Z2 Bluetooth Wireless in Ear E...   \n",
      "3           AE004  Samsung Galaxy M33 5G (Mystique Green, 6GB, 12...   \n",
      "4           AE005  OnePlus Nord CE 2 Lite 5G (Black Dusk, 6GB RAM...   \n",
      "..            ...                                                ...   \n",
      "149         AE145  Samsung 80 cm (32 Inches) Wondertainment Serie...   \n",
      "150         AE146  boAt BassHeads 122 Wired in Ear Earphones with...   \n",
      "151         AE147           Syska SSK-EBS-0402 ABS 4 Way Power Strip   \n",
      "152         AE148      Agaro Blaze USB 3.0 to USB Type C OTG Adapter   \n",
      "153         AE149  Ajanta Abstract Metal Quartz Wall Clock (32 cm...   \n",
      "\n",
      "           main_category     sub_category ratings no_of_ratings  \\\n",
      "0    tv, audio & cameras  All Electronics       4           965   \n",
      "1    tv, audio & cameras  All Electronics     4.3        113956   \n",
      "2    tv, audio & cameras  All Electronics     4.2         90304   \n",
      "3    tv, audio & cameras  All Electronics     4.1         24863   \n",
      "4    tv, audio & cameras  All Electronics     4.3        113956   \n",
      "..                   ...              ...     ...           ...   \n",
      "149  tv, audio & cameras  All Electronics     4.2          8877   \n",
      "150  tv, audio & cameras  All Electronics     3.9           757   \n",
      "151  tv, audio & cameras  All Electronics       4          3797   \n",
      "152  tv, audio & cameras  All Electronics     4.3         16085   \n",
      "153  tv, audio & cameras  All Electronics     4.2         59489   \n",
      "\n",
      "    discount_price actual_price  \n",
      "0        â‚¹10,999    â‚¹18,999  \n",
      "1        â‚¹18,999    â‚¹19,999  \n",
      "2         â‚¹1,999     â‚¹2,299  \n",
      "3        â‚¹15,999    â‚¹24,999  \n",
      "4        â‚¹18,999    â‚¹19,999  \n",
      "..             ...          ...  \n",
      "149      â‚¹12,990    â‚¹22,900  \n",
      "150         â‚¹399     â‚¹1,290  \n",
      "151         â‚¹449       â‚¹470  \n",
      "152         â‚¹139       â‚¹495  \n",
      "153            NaN       â‚¹465  \n",
      "\n",
      "[149 rows x 8 columns]\n"
     ]
    }
   ],
   "source": [
    "print(df)"
   ]
  },
  {
   "cell_type": "code",
   "execution_count": 13,
   "id": "39cbbb3a",
   "metadata": {},
   "outputs": [],
   "source": [
    "df['discount_price'] = df['discount_price'].str.replace(',', '').str.replace('â‚¹', '').astype(float)\n",
    "df['actual_price'] = df['actual_price'].str.replace(',', '').str.replace('â‚¹', '').astype(float)\n"
   ]
  },
  {
   "cell_type": "code",
   "execution_count": 14,
   "id": "63d09598",
   "metadata": {},
   "outputs": [
    {
     "name": "stdout",
     "output_type": "stream",
     "text": [
      "    Electronic id                                               name  \\\n",
      "0           AE001  Redmi 10 Power (Power Black, 8GB RAM, 128GB St...   \n",
      "1           AE002  OnePlus Nord CE 2 Lite 5G (Blue Tide, 6GB RAM,...   \n",
      "2           AE003  OnePlus Bullets Z2 Bluetooth Wireless in Ear E...   \n",
      "3           AE004  Samsung Galaxy M33 5G (Mystique Green, 6GB, 12...   \n",
      "4           AE005  OnePlus Nord CE 2 Lite 5G (Black Dusk, 6GB RAM...   \n",
      "..            ...                                                ...   \n",
      "149         AE145  Samsung 80 cm (32 Inches) Wondertainment Serie...   \n",
      "150         AE146  boAt BassHeads 122 Wired in Ear Earphones with...   \n",
      "151         AE147           Syska SSK-EBS-0402 ABS 4 Way Power Strip   \n",
      "152         AE148      Agaro Blaze USB 3.0 to USB Type C OTG Adapter   \n",
      "153         AE149  Ajanta Abstract Metal Quartz Wall Clock (32 cm...   \n",
      "\n",
      "           main_category     sub_category ratings no_of_ratings  \\\n",
      "0    tv, audio & cameras  All Electronics       4           965   \n",
      "1    tv, audio & cameras  All Electronics     4.3        113956   \n",
      "2    tv, audio & cameras  All Electronics     4.2         90304   \n",
      "3    tv, audio & cameras  All Electronics     4.1         24863   \n",
      "4    tv, audio & cameras  All Electronics     4.3        113956   \n",
      "..                   ...              ...     ...           ...   \n",
      "149  tv, audio & cameras  All Electronics     4.2          8877   \n",
      "150  tv, audio & cameras  All Electronics     3.9           757   \n",
      "151  tv, audio & cameras  All Electronics       4          3797   \n",
      "152  tv, audio & cameras  All Electronics     4.3         16085   \n",
      "153  tv, audio & cameras  All Electronics     4.2         59489   \n",
      "\n",
      "     discount_price  actual_price  \n",
      "0           10999.0       18999.0  \n",
      "1           18999.0       19999.0  \n",
      "2            1999.0        2299.0  \n",
      "3           15999.0       24999.0  \n",
      "4           18999.0       19999.0  \n",
      "..              ...           ...  \n",
      "149         12990.0       22900.0  \n",
      "150           399.0        1290.0  \n",
      "151           449.0         470.0  \n",
      "152           139.0         495.0  \n",
      "153             NaN         465.0  \n",
      "\n",
      "[149 rows x 8 columns]\n"
     ]
    }
   ],
   "source": [
    "print(df)"
   ]
  },
  {
   "cell_type": "code",
   "execution_count": 15,
   "id": "a8a6688d",
   "metadata": {},
   "outputs": [
    {
     "name": "stdout",
     "output_type": "stream",
     "text": [
      "Electronic id      0\n",
      "name               0\n",
      "main_category      0\n",
      "sub_category       0\n",
      "ratings            0\n",
      "no_of_ratings      0\n",
      "discount_price    15\n",
      "actual_price       1\n",
      "dtype: int64\n"
     ]
    }
   ],
   "source": [
    "print(df.isnull().sum())\n"
   ]
  },
  {
   "cell_type": "code",
   "execution_count": 16,
   "id": "e83186db",
   "metadata": {},
   "outputs": [],
   "source": [
    "\n",
    "df['discount_price'] = df['discount_price'].fillna(df['discount_price'].mean())\n",
    "df['actual_price'] = df['actual_price'].fillna(df['actual_price'].mean())\n"
   ]
  },
  {
   "cell_type": "code",
   "execution_count": 17,
   "id": "93600870",
   "metadata": {},
   "outputs": [
    {
     "name": "stdout",
     "output_type": "stream",
     "text": [
      "    Electronic id                                               name  \\\n",
      "0           AE001  Redmi 10 Power (Power Black, 8GB RAM, 128GB St...   \n",
      "1           AE002  OnePlus Nord CE 2 Lite 5G (Blue Tide, 6GB RAM,...   \n",
      "2           AE003  OnePlus Bullets Z2 Bluetooth Wireless in Ear E...   \n",
      "3           AE004  Samsung Galaxy M33 5G (Mystique Green, 6GB, 12...   \n",
      "4           AE005  OnePlus Nord CE 2 Lite 5G (Black Dusk, 6GB RAM...   \n",
      "..            ...                                                ...   \n",
      "149         AE145  Samsung 80 cm (32 Inches) Wondertainment Serie...   \n",
      "150         AE146  boAt BassHeads 122 Wired in Ear Earphones with...   \n",
      "151         AE147           Syska SSK-EBS-0402 ABS 4 Way Power Strip   \n",
      "152         AE148      Agaro Blaze USB 3.0 to USB Type C OTG Adapter   \n",
      "153         AE149  Ajanta Abstract Metal Quartz Wall Clock (32 cm...   \n",
      "\n",
      "           main_category     sub_category ratings no_of_ratings  \\\n",
      "0    tv, audio & cameras  All Electronics       4           965   \n",
      "1    tv, audio & cameras  All Electronics     4.3        113956   \n",
      "2    tv, audio & cameras  All Electronics     4.2         90304   \n",
      "3    tv, audio & cameras  All Electronics     4.1         24863   \n",
      "4    tv, audio & cameras  All Electronics     4.3        113956   \n",
      "..                   ...              ...     ...           ...   \n",
      "149  tv, audio & cameras  All Electronics     4.2          8877   \n",
      "150  tv, audio & cameras  All Electronics     3.9           757   \n",
      "151  tv, audio & cameras  All Electronics       4          3797   \n",
      "152  tv, audio & cameras  All Electronics     4.3         16085   \n",
      "153  tv, audio & cameras  All Electronics     4.2         59489   \n",
      "\n",
      "     discount_price  actual_price  \n",
      "0           10999.0       18999.0  \n",
      "1           18999.0       19999.0  \n",
      "2            1999.0        2299.0  \n",
      "3           15999.0       24999.0  \n",
      "4           18999.0       19999.0  \n",
      "..              ...           ...  \n",
      "149         12990.0       22900.0  \n",
      "150           399.0        1290.0  \n",
      "151           449.0         470.0  \n",
      "152           139.0         495.0  \n",
      "153          3379.0         465.0  \n",
      "\n",
      "[149 rows x 8 columns]\n"
     ]
    }
   ],
   "source": [
    "print(df)"
   ]
  },
  {
   "cell_type": "code",
   "execution_count": 18,
   "id": "51ffe377",
   "metadata": {},
   "outputs": [],
   "source": [
    "df['savings'] = df['actual_price'] - df['discount_price']"
   ]
  },
  {
   "cell_type": "code",
   "execution_count": 21,
   "id": "241f0510",
   "metadata": {},
   "outputs": [],
   "source": [
    "df.to_excel(\"C:\\\\Users\\\\14375\\\\Downloads\\\\sql project data\\\\all_electronics_dIM1_clean.xlsx\", index=False)\n"
   ]
  },
  {
   "cell_type": "code",
   "execution_count": null,
   "id": "1ca8e352",
   "metadata": {},
   "outputs": [],
   "source": []
  }
 ],
 "metadata": {
  "kernelspec": {
   "display_name": "Python 3 (ipykernel)",
   "language": "python",
   "name": "python3"
  },
  "language_info": {
   "codemirror_mode": {
    "name": "ipython",
    "version": 3
   },
   "file_extension": ".py",
   "mimetype": "text/x-python",
   "name": "python",
   "nbconvert_exporter": "python",
   "pygments_lexer": "ipython3",
   "version": "3.9.13"
  }
 },
 "nbformat": 4,
 "nbformat_minor": 5
}
