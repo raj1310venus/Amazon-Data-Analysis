{
 "cells": [
  {
   "cell_type": "code",
   "execution_count": 1,
   "id": "f1cf87d9",
   "metadata": {},
   "outputs": [],
   "source": [
    "import pandas as pd\n",
    "import numpy as np"
   ]
  },
  {
   "cell_type": "code",
   "execution_count": 2,
   "id": "343bbdd0",
   "metadata": {},
   "outputs": [],
   "source": [
    "#loading the dataset\n",
    "df = pd.read_excel(\"C:\\\\Users\\\\14375\\\\Downloads\\\\sql project data\\\\sales fact table.xlsx\")"
   ]
  },
  {
   "cell_type": "code",
   "execution_count": 3,
   "id": "59e755db",
   "metadata": {},
   "outputs": [
    {
     "name": "stdout",
     "output_type": "stream",
     "text": [
      "<class 'pandas.core.frame.DataFrame'>\n",
      "RangeIndex: 119 entries, 0 to 118\n",
      "Data columns (total 11 columns):\n",
      " #   Column            Non-Null Count  Dtype         \n",
      "---  ------            --------------  -----         \n",
      " 0   transaction id    113 non-null    object        \n",
      " 1   transaction id.1  113 non-null    object        \n",
      " 2   AC                113 non-null    object        \n",
      " 3   Unnamed: 3        0 non-null      float64       \n",
      " 4   AA                113 non-null    object        \n",
      " 5   AE                113 non-null    object        \n",
      " 6   Unnamed: 6        0 non-null      float64       \n",
      " 7   C                 113 non-null    object        \n",
      " 8   CI                113 non-null    object        \n",
      " 9   Date              113 non-null    datetime64[ns]\n",
      " 10  Payment Method    113 non-null    object        \n",
      "dtypes: datetime64[ns](1), float64(2), object(8)\n",
      "memory usage: 10.4+ KB\n"
     ]
    }
   ],
   "source": [
    "df.info()"
   ]
  },
  {
   "cell_type": "code",
   "execution_count": 4,
   "id": "36d6c160",
   "metadata": {},
   "outputs": [
    {
     "data": {
      "text/html": [
       "<div>\n",
       "<style scoped>\n",
       "    .dataframe tbody tr th:only-of-type {\n",
       "        vertical-align: middle;\n",
       "    }\n",
       "\n",
       "    .dataframe tbody tr th {\n",
       "        vertical-align: top;\n",
       "    }\n",
       "\n",
       "    .dataframe thead th {\n",
       "        text-align: right;\n",
       "    }\n",
       "</style>\n",
       "<table border=\"1\" class=\"dataframe\">\n",
       "  <thead>\n",
       "    <tr style=\"text-align: right;\">\n",
       "      <th></th>\n",
       "      <th>Unnamed: 3</th>\n",
       "      <th>Unnamed: 6</th>\n",
       "    </tr>\n",
       "  </thead>\n",
       "  <tbody>\n",
       "    <tr>\n",
       "      <th>count</th>\n",
       "      <td>0.0</td>\n",
       "      <td>0.0</td>\n",
       "    </tr>\n",
       "    <tr>\n",
       "      <th>mean</th>\n",
       "      <td>NaN</td>\n",
       "      <td>NaN</td>\n",
       "    </tr>\n",
       "    <tr>\n",
       "      <th>std</th>\n",
       "      <td>NaN</td>\n",
       "      <td>NaN</td>\n",
       "    </tr>\n",
       "    <tr>\n",
       "      <th>min</th>\n",
       "      <td>NaN</td>\n",
       "      <td>NaN</td>\n",
       "    </tr>\n",
       "    <tr>\n",
       "      <th>25%</th>\n",
       "      <td>NaN</td>\n",
       "      <td>NaN</td>\n",
       "    </tr>\n",
       "    <tr>\n",
       "      <th>50%</th>\n",
       "      <td>NaN</td>\n",
       "      <td>NaN</td>\n",
       "    </tr>\n",
       "    <tr>\n",
       "      <th>75%</th>\n",
       "      <td>NaN</td>\n",
       "      <td>NaN</td>\n",
       "    </tr>\n",
       "    <tr>\n",
       "      <th>max</th>\n",
       "      <td>NaN</td>\n",
       "      <td>NaN</td>\n",
       "    </tr>\n",
       "  </tbody>\n",
       "</table>\n",
       "</div>"
      ],
      "text/plain": [
       "       Unnamed: 3  Unnamed: 6\n",
       "count         0.0         0.0\n",
       "mean          NaN         NaN\n",
       "std           NaN         NaN\n",
       "min           NaN         NaN\n",
       "25%           NaN         NaN\n",
       "50%           NaN         NaN\n",
       "75%           NaN         NaN\n",
       "max           NaN         NaN"
      ]
     },
     "execution_count": 4,
     "metadata": {},
     "output_type": "execute_result"
    }
   ],
   "source": [
    "df.describe()"
   ]
  },
  {
   "cell_type": "code",
   "execution_count": 5,
   "id": "048da5a1",
   "metadata": {},
   "outputs": [
    {
     "data": {
      "text/plain": [
       "(119, 11)"
      ]
     },
     "execution_count": 5,
     "metadata": {},
     "output_type": "execute_result"
    }
   ],
   "source": [
    "df.shape"
   ]
  },
  {
   "cell_type": "code",
   "execution_count": 6,
   "id": "d3f0c6c8",
   "metadata": {},
   "outputs": [
    {
     "data": {
      "text/html": [
       "<div>\n",
       "<style scoped>\n",
       "    .dataframe tbody tr th:only-of-type {\n",
       "        vertical-align: middle;\n",
       "    }\n",
       "\n",
       "    .dataframe tbody tr th {\n",
       "        vertical-align: top;\n",
       "    }\n",
       "\n",
       "    .dataframe thead th {\n",
       "        text-align: right;\n",
       "    }\n",
       "</style>\n",
       "<table border=\"1\" class=\"dataframe\">\n",
       "  <thead>\n",
       "    <tr style=\"text-align: right;\">\n",
       "      <th></th>\n",
       "      <th>transaction id</th>\n",
       "      <th>transaction id.1</th>\n",
       "      <th>AC</th>\n",
       "      <th>Unnamed: 3</th>\n",
       "      <th>AA</th>\n",
       "      <th>AE</th>\n",
       "      <th>Unnamed: 6</th>\n",
       "      <th>C</th>\n",
       "      <th>CI</th>\n",
       "      <th>Date</th>\n",
       "      <th>Payment Method</th>\n",
       "    </tr>\n",
       "  </thead>\n",
       "  <tbody>\n",
       "    <tr>\n",
       "      <th>0</th>\n",
       "      <td>T001</td>\n",
       "      <td>T001</td>\n",
       "      <td>AC077</td>\n",
       "      <td>NaN</td>\n",
       "      <td>AA037</td>\n",
       "      <td>AE096</td>\n",
       "      <td>NaN</td>\n",
       "      <td>C096</td>\n",
       "      <td>CI019</td>\n",
       "      <td>2022-01-01</td>\n",
       "      <td>Debit Card</td>\n",
       "    </tr>\n",
       "    <tr>\n",
       "      <th>1</th>\n",
       "      <td>T002</td>\n",
       "      <td>T002</td>\n",
       "      <td>AC032</td>\n",
       "      <td>NaN</td>\n",
       "      <td>AA032</td>\n",
       "      <td>AE032</td>\n",
       "      <td>NaN</td>\n",
       "      <td>C032</td>\n",
       "      <td>CI038</td>\n",
       "      <td>2022-01-02</td>\n",
       "      <td>Credit Card</td>\n",
       "    </tr>\n",
       "    <tr>\n",
       "      <th>2</th>\n",
       "      <td>T003</td>\n",
       "      <td>T003</td>\n",
       "      <td>AC058</td>\n",
       "      <td>NaN</td>\n",
       "      <td>AA034</td>\n",
       "      <td>AE101</td>\n",
       "      <td>NaN</td>\n",
       "      <td>C085</td>\n",
       "      <td>CI070</td>\n",
       "      <td>2022-01-03</td>\n",
       "      <td>Cash</td>\n",
       "    </tr>\n",
       "    <tr>\n",
       "      <th>3</th>\n",
       "      <td>NaN</td>\n",
       "      <td>NaN</td>\n",
       "      <td>NaN</td>\n",
       "      <td>NaN</td>\n",
       "      <td>NaN</td>\n",
       "      <td>NaN</td>\n",
       "      <td>NaN</td>\n",
       "      <td>NaN</td>\n",
       "      <td>NaN</td>\n",
       "      <td>NaT</td>\n",
       "      <td>NaN</td>\n",
       "    </tr>\n",
       "    <tr>\n",
       "      <th>4</th>\n",
       "      <td>T004</td>\n",
       "      <td>T004</td>\n",
       "      <td>AC119</td>\n",
       "      <td>NaN</td>\n",
       "      <td>AA036</td>\n",
       "      <td>AE064</td>\n",
       "      <td>NaN</td>\n",
       "      <td>C056</td>\n",
       "      <td>CI018</td>\n",
       "      <td>2022-01-04</td>\n",
       "      <td>Net Banking</td>\n",
       "    </tr>\n",
       "  </tbody>\n",
       "</table>\n",
       "</div>"
      ],
      "text/plain": [
       "  transaction id transaction id.1     AC  Unnamed: 3     AA     AE  \\\n",
       "0           T001             T001  AC077         NaN  AA037  AE096   \n",
       "1           T002             T002  AC032         NaN  AA032  AE032   \n",
       "2           T003             T003  AC058         NaN  AA034  AE101   \n",
       "3            NaN              NaN    NaN         NaN    NaN    NaN   \n",
       "4           T004             T004  AC119         NaN  AA036  AE064   \n",
       "\n",
       "   Unnamed: 6     C CI           Date Payment Method  \n",
       "0         NaN  C096  CI019 2022-01-01     Debit Card  \n",
       "1         NaN  C032  CI038 2022-01-02    Credit Card  \n",
       "2         NaN  C085  CI070 2022-01-03           Cash  \n",
       "3         NaN   NaN    NaN        NaT            NaN  \n",
       "4         NaN  C056  CI018 2022-01-04    Net Banking  "
      ]
     },
     "execution_count": 6,
     "metadata": {},
     "output_type": "execute_result"
    }
   ],
   "source": [
    "df.head(5)"
   ]
  },
  {
   "cell_type": "code",
   "execution_count": 7,
   "id": "5dae5a11",
   "metadata": {},
   "outputs": [],
   "source": [
    "df.dropna(how='all', inplace=True)"
   ]
  },
  {
   "cell_type": "code",
   "execution_count": 8,
   "id": "89245388",
   "metadata": {},
   "outputs": [],
   "source": [
    "df.dropna(axis=1, how='all', inplace=True)"
   ]
  },
  {
   "cell_type": "code",
   "execution_count": 9,
   "id": "2940d1ed",
   "metadata": {},
   "outputs": [],
   "source": [
    "df = df.drop('transaction id.1', axis=1)"
   ]
  },
  {
   "cell_type": "code",
   "execution_count": 10,
   "id": "473e5bf7",
   "metadata": {
    "scrolled": true
   },
   "outputs": [
    {
     "data": {
      "text/plain": [
       "Index(['transaction id', 'AC', 'AA', 'AE', 'C', 'CI    ', 'Date',\n",
       "       'Payment Method'],\n",
       "      dtype='object')"
      ]
     },
     "execution_count": 10,
     "metadata": {},
     "output_type": "execute_result"
    }
   ],
   "source": [
    "df.columns"
   ]
  },
  {
   "cell_type": "code",
   "execution_count": 18,
   "id": "fbdbc2dc",
   "metadata": {},
   "outputs": [],
   "source": [
    "df = df.rename(columns={'AC': 'Air Conditioner id', 'AA': 'Appliance id', 'C': 'Camera id', 'CI    ' : 'Customer id', 'AE': 'Electronic id'})\n"
   ]
  },
  {
   "cell_type": "code",
   "execution_count": 19,
   "id": "91768edd",
   "metadata": {
    "scrolled": true
   },
   "outputs": [
    {
     "name": "stdout",
     "output_type": "stream",
     "text": [
      "    transaction id Air Conditioner id Appliance id Electronic id Camera id  \\\n",
      "0             T001              AC077        AA037         AE096      C096   \n",
      "1             T002              AC032        AA032         AE032      C032   \n",
      "2             T003              AC058        AA034         AE101      C085   \n",
      "4             T004              AC119        AA036         AE064      C056   \n",
      "5             T005              AC001        AA051         AE074      C013   \n",
      "..             ...                ...          ...           ...       ...   \n",
      "114           T109              AC048        AA063         AE096      C017   \n",
      "115           T110              AC025        AA012         AE070      C081   \n",
      "116           T111              AC117        AA097         AE112      C144   \n",
      "117           T112              AC036        AA011         AE048      C074   \n",
      "118           T113              AC020        AA069         AE110      C071   \n",
      "\n",
      "    Customer id       Date Payment Method  \n",
      "0         CI019 2022-01-01     Debit Card  \n",
      "1         CI038 2022-01-02    Credit Card  \n",
      "2         CI070 2022-01-03           Cash  \n",
      "4         CI018 2022-01-04    Net Banking  \n",
      "5         CI059 2022-01-05            UPI  \n",
      "..          ...        ...            ...  \n",
      "114       CI058 2022-04-19    Credit Card  \n",
      "115       CI050 2022-04-20            UPI  \n",
      "116       CI053 2022-04-21           Cash  \n",
      "117       CI019 2022-04-22     Debit Card  \n",
      "118       CI012 2022-04-23    Net Banking  \n",
      "\n",
      "[113 rows x 8 columns]\n"
     ]
    }
   ],
   "source": [
    "print(df)"
   ]
  },
  {
   "cell_type": "code",
   "execution_count": 20,
   "id": "8000c2e9",
   "metadata": {
    "scrolled": true
   },
   "outputs": [
    {
     "name": "stdout",
     "output_type": "stream",
     "text": [
      "    transaction id Air Conditioner id Appliance id Electronic id Camera id  \\\n",
      "0             T001              AC077        AA037         AE096      C096   \n",
      "1             T002              AC032        AA032         AE032      C032   \n",
      "2             T003              AC058        AA034         AE101      C085   \n",
      "4             T004              AC119        AA036         AE064      C056   \n",
      "5             T005              AC001        AA051         AE074      C013   \n",
      "..             ...                ...          ...           ...       ...   \n",
      "114           T109              AC048        AA063         AE096      C017   \n",
      "115           T110              AC025        AA012         AE070      C081   \n",
      "116           T111              AC117        AA097         AE112      C144   \n",
      "117           T112              AC036        AA011         AE048      C074   \n",
      "118           T113              AC020        AA069         AE110      C071   \n",
      "\n",
      "    Customer id       Date Payment Method  \n",
      "0         CI019 2022-01-01     Debit Card  \n",
      "1         CI038 2022-01-02    Credit Card  \n",
      "2         CI070 2022-01-03           Cash  \n",
      "4         CI018 2022-01-04    Net Banking  \n",
      "5         CI059 2022-01-05            UPI  \n",
      "..          ...        ...            ...  \n",
      "114       CI058 2022-04-19    Credit Card  \n",
      "115       CI050 2022-04-20            UPI  \n",
      "116       CI053 2022-04-21           Cash  \n",
      "117       CI019 2022-04-22     Debit Card  \n",
      "118       CI012 2022-04-23    Net Banking  \n",
      "\n",
      "[113 rows x 8 columns]\n"
     ]
    }
   ],
   "source": [
    "print(df)"
   ]
  },
  {
   "cell_type": "code",
   "execution_count": 21,
   "id": "1abe0532",
   "metadata": {},
   "outputs": [
    {
     "name": "stdout",
     "output_type": "stream",
     "text": [
      "transaction id        0\n",
      "Air Conditioner id    0\n",
      "Appliance id          0\n",
      "Electronic id         0\n",
      "Camera id             0\n",
      "Customer id           0\n",
      "Date                  0\n",
      "Payment Method        0\n",
      "dtype: int64\n"
     ]
    }
   ],
   "source": [
    "print(df.isnull().sum())\n"
   ]
  },
  {
   "cell_type": "code",
   "execution_count": 22,
   "id": "dd0667ce",
   "metadata": {},
   "outputs": [
    {
     "name": "stdout",
     "output_type": "stream",
     "text": [
      "    transaction id Air Conditioner id Appliance id Electronic id Camera id  \\\n",
      "0             T001              AC077        AA037         AE096      C096   \n",
      "1             T002              AC032        AA032         AE032      C032   \n",
      "2             T003              AC058        AA034         AE101      C085   \n",
      "4             T004              AC119        AA036         AE064      C056   \n",
      "5             T005              AC001        AA051         AE074      C013   \n",
      "..             ...                ...          ...           ...       ...   \n",
      "114           T109              AC048        AA063         AE096      C017   \n",
      "115           T110              AC025        AA012         AE070      C081   \n",
      "116           T111              AC117        AA097         AE112      C144   \n",
      "117           T112              AC036        AA011         AE048      C074   \n",
      "118           T113              AC020        AA069         AE110      C071   \n",
      "\n",
      "    Customer id       Date Payment Method  \n",
      "0         CI019 2022-01-01     Debit Card  \n",
      "1         CI038 2022-01-02    Credit Card  \n",
      "2         CI070 2022-01-03           Cash  \n",
      "4         CI018 2022-01-04    Net Banking  \n",
      "5         CI059 2022-01-05            UPI  \n",
      "..          ...        ...            ...  \n",
      "114       CI058 2022-04-19    Credit Card  \n",
      "115       CI050 2022-04-20            UPI  \n",
      "116       CI053 2022-04-21           Cash  \n",
      "117       CI019 2022-04-22     Debit Card  \n",
      "118       CI012 2022-04-23    Net Banking  \n",
      "\n",
      "[113 rows x 8 columns]\n"
     ]
    }
   ],
   "source": [
    "print(df)"
   ]
  },
  {
   "cell_type": "code",
   "execution_count": 24,
   "id": "2a5eb894",
   "metadata": {},
   "outputs": [],
   "source": [
    "df.to_excel(\"C:\\\\Users\\\\14375\\\\Downloads\\\\sql project data\\\\sales_fact2_clean.xlsx\", index=False)\n"
   ]
  },
  {
   "cell_type": "code",
   "execution_count": null,
   "id": "12428f4a",
   "metadata": {},
   "outputs": [],
   "source": []
  },
  {
   "cell_type": "code",
   "execution_count": null,
   "id": "d63858ab",
   "metadata": {},
   "outputs": [],
   "source": []
  },
  {
   "cell_type": "code",
   "execution_count": null,
   "id": "9354d546",
   "metadata": {},
   "outputs": [],
   "source": []
  },
  {
   "cell_type": "code",
   "execution_count": null,
   "id": "392bcb83",
   "metadata": {},
   "outputs": [],
   "source": []
  }
 ],
 "metadata": {
  "kernelspec": {
   "display_name": "Python 3 (ipykernel)",
   "language": "python",
   "name": "python3"
  },
  "language_info": {
   "codemirror_mode": {
    "name": "ipython",
    "version": 3
   },
   "file_extension": ".py",
   "mimetype": "text/x-python",
   "name": "python",
   "nbconvert_exporter": "python",
   "pygments_lexer": "ipython3",
   "version": "3.9.13"
  }
 },
 "nbformat": 4,
 "nbformat_minor": 5
}
