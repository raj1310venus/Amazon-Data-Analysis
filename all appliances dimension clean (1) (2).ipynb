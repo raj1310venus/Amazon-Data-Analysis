{
 "cells": [
  {
   "cell_type": "code",
   "execution_count": 22,
   "id": "b0507e01",
   "metadata": {},
   "outputs": [],
   "source": [
    "import pandas as pd\n",
    "import numpy as np"
   ]
  },
  {
   "cell_type": "code",
   "execution_count": 23,
   "id": "58a17d1a",
   "metadata": {},
   "outputs": [],
   "source": [
    "#loading the dataset\n",
    "aa_df = pd.read_excel(\"C:\\\\Users\\\\14375\\\\Downloads\\\\sql project data\\\\All Appliances dimesnion.xlsx\")"
   ]
  },
  {
   "cell_type": "code",
   "execution_count": 24,
   "id": "561cca73",
   "metadata": {},
   "outputs": [
    {
     "name": "stdout",
     "output_type": "stream",
     "text": [
      "<class 'pandas.core.frame.DataFrame'>\n",
      "RangeIndex: 153 entries, 0 to 152\n",
      "Data columns (total 12 columns):\n",
      " #   Column          Non-Null Count  Dtype  \n",
      "---  ------          --------------  -----  \n",
      " 0   id              149 non-null    object \n",
      " 1   name            149 non-null    object \n",
      " 2   main_category   149 non-null    object \n",
      " 3   sub_category    149 non-null    object \n",
      " 4   Unnamed: 4      0 non-null      float64\n",
      " 5   image           149 non-null    object \n",
      " 6   link            149 non-null    object \n",
      " 7   ratings         149 non-null    float64\n",
      " 8   no_of_ratings   149 non-null    float64\n",
      " 9   Unnamed: 9      0 non-null      float64\n",
      " 10  discount_price  143 non-null    object \n",
      " 11  actual_price    149 non-null    object \n",
      "dtypes: float64(4), object(8)\n",
      "memory usage: 14.5+ KB\n"
     ]
    }
   ],
   "source": [
    "aa_df.info()"
   ]
  },
  {
   "cell_type": "code",
   "execution_count": 25,
   "id": "5632f594",
   "metadata": {},
   "outputs": [
    {
     "data": {
      "text/html": [
       "<div>\n",
       "<style scoped>\n",
       "    .dataframe tbody tr th:only-of-type {\n",
       "        vertical-align: middle;\n",
       "    }\n",
       "\n",
       "    .dataframe tbody tr th {\n",
       "        vertical-align: top;\n",
       "    }\n",
       "\n",
       "    .dataframe thead th {\n",
       "        text-align: right;\n",
       "    }\n",
       "</style>\n",
       "<table border=\"1\" class=\"dataframe\">\n",
       "  <thead>\n",
       "    <tr style=\"text-align: right;\">\n",
       "      <th></th>\n",
       "      <th>Unnamed: 4</th>\n",
       "      <th>ratings</th>\n",
       "      <th>no_of_ratings</th>\n",
       "      <th>Unnamed: 9</th>\n",
       "    </tr>\n",
       "  </thead>\n",
       "  <tbody>\n",
       "    <tr>\n",
       "      <th>count</th>\n",
       "      <td>0.0</td>\n",
       "      <td>149.000000</td>\n",
       "      <td>149.000000</td>\n",
       "      <td>0.0</td>\n",
       "    </tr>\n",
       "    <tr>\n",
       "      <th>mean</th>\n",
       "      <td>NaN</td>\n",
       "      <td>4.065101</td>\n",
       "      <td>14089.221477</td>\n",
       "      <td>NaN</td>\n",
       "    </tr>\n",
       "    <tr>\n",
       "      <th>std</th>\n",
       "      <td>NaN</td>\n",
       "      <td>0.264045</td>\n",
       "      <td>26687.996536</td>\n",
       "      <td>NaN</td>\n",
       "    </tr>\n",
       "    <tr>\n",
       "      <th>min</th>\n",
       "      <td>NaN</td>\n",
       "      <td>2.600000</td>\n",
       "      <td>11.000000</td>\n",
       "      <td>NaN</td>\n",
       "    </tr>\n",
       "    <tr>\n",
       "      <th>25%</th>\n",
       "      <td>NaN</td>\n",
       "      <td>3.900000</td>\n",
       "      <td>2255.000000</td>\n",
       "      <td>NaN</td>\n",
       "    </tr>\n",
       "    <tr>\n",
       "      <th>50%</th>\n",
       "      <td>NaN</td>\n",
       "      <td>4.100000</td>\n",
       "      <td>6755.000000</td>\n",
       "      <td>NaN</td>\n",
       "    </tr>\n",
       "    <tr>\n",
       "      <th>75%</th>\n",
       "      <td>NaN</td>\n",
       "      <td>4.200000</td>\n",
       "      <td>15997.000000</td>\n",
       "      <td>NaN</td>\n",
       "    </tr>\n",
       "    <tr>\n",
       "      <th>max</th>\n",
       "      <td>NaN</td>\n",
       "      <td>4.500000</td>\n",
       "      <td>274505.000000</td>\n",
       "      <td>NaN</td>\n",
       "    </tr>\n",
       "  </tbody>\n",
       "</table>\n",
       "</div>"
      ],
      "text/plain": [
       "       Unnamed: 4     ratings  no_of_ratings  Unnamed: 9\n",
       "count         0.0  149.000000     149.000000         0.0\n",
       "mean          NaN    4.065101   14089.221477         NaN\n",
       "std           NaN    0.264045   26687.996536         NaN\n",
       "min           NaN    2.600000      11.000000         NaN\n",
       "25%           NaN    3.900000    2255.000000         NaN\n",
       "50%           NaN    4.100000    6755.000000         NaN\n",
       "75%           NaN    4.200000   15997.000000         NaN\n",
       "max           NaN    4.500000  274505.000000         NaN"
      ]
     },
     "execution_count": 25,
     "metadata": {},
     "output_type": "execute_result"
    }
   ],
   "source": [
    "aa_df.describe()"
   ]
  },
  {
   "cell_type": "code",
   "execution_count": 26,
   "id": "0d502fd7",
   "metadata": {},
   "outputs": [
    {
     "data": {
      "text/plain": [
       "(153, 12)"
      ]
     },
     "execution_count": 26,
     "metadata": {},
     "output_type": "execute_result"
    }
   ],
   "source": [
    "aa_df.shape"
   ]
  },
  {
   "cell_type": "code",
   "execution_count": 27,
   "id": "93ce188e",
   "metadata": {},
   "outputs": [
    {
     "data": {
      "text/html": [
       "<div>\n",
       "<style scoped>\n",
       "    .dataframe tbody tr th:only-of-type {\n",
       "        vertical-align: middle;\n",
       "    }\n",
       "\n",
       "    .dataframe tbody tr th {\n",
       "        vertical-align: top;\n",
       "    }\n",
       "\n",
       "    .dataframe thead th {\n",
       "        text-align: right;\n",
       "    }\n",
       "</style>\n",
       "<table border=\"1\" class=\"dataframe\">\n",
       "  <thead>\n",
       "    <tr style=\"text-align: right;\">\n",
       "      <th></th>\n",
       "      <th>id</th>\n",
       "      <th>name</th>\n",
       "      <th>main_category</th>\n",
       "      <th>sub_category</th>\n",
       "      <th>Unnamed: 4</th>\n",
       "      <th>image</th>\n",
       "      <th>link</th>\n",
       "      <th>ratings</th>\n",
       "      <th>no_of_ratings</th>\n",
       "      <th>Unnamed: 9</th>\n",
       "      <th>discount_price</th>\n",
       "      <th>actual_price</th>\n",
       "    </tr>\n",
       "  </thead>\n",
       "  <tbody>\n",
       "    <tr>\n",
       "      <th>0</th>\n",
       "      <td>AA001</td>\n",
       "      <td>Pigeon by Stovekraft Amaze Plus Electric Kettl...</td>\n",
       "      <td>appliances</td>\n",
       "      <td>All Appliances</td>\n",
       "      <td>NaN</td>\n",
       "      <td>https://m.media-amazon.com/images/W/IMAGERENDE...</td>\n",
       "      <td>https://www.amazon.in/Pigeon-Amaze-Plus-1-5-Lt...</td>\n",
       "      <td>3.9</td>\n",
       "      <td>128941.0</td>\n",
       "      <td>NaN</td>\n",
       "      <td>â‚¹599</td>\n",
       "      <td>â‚¹1,245</td>\n",
       "    </tr>\n",
       "    <tr>\n",
       "      <th>1</th>\n",
       "      <td>AA002</td>\n",
       "      <td>Pigeon Polypropylene Mini Handy and Compact Ch...</td>\n",
       "      <td>appliances</td>\n",
       "      <td>All Appliances</td>\n",
       "      <td>NaN</td>\n",
       "      <td>https://m.media-amazon.com/images/W/IMAGERENDE...</td>\n",
       "      <td>https://www.amazon.in/Pigeon-Stovekraft-Plasti...</td>\n",
       "      <td>4.1</td>\n",
       "      <td>274505.0</td>\n",
       "      <td>NaN</td>\n",
       "      <td>â‚¹199</td>\n",
       "      <td>â‚¹545</td>\n",
       "    </tr>\n",
       "    <tr>\n",
       "      <th>2</th>\n",
       "      <td>AA003</td>\n",
       "      <td>Glun Multipurpose Portable Electronic Digital ...</td>\n",
       "      <td>appliances</td>\n",
       "      <td>All Appliances</td>\n",
       "      <td>NaN</td>\n",
       "      <td>https://m.media-amazon.com/images/W/IMAGERENDE...</td>\n",
       "      <td>https://www.amazon.in/Multipurpose-Portable-El...</td>\n",
       "      <td>3.8</td>\n",
       "      <td>365.0</td>\n",
       "      <td>NaN</td>\n",
       "      <td>â‚¹199</td>\n",
       "      <td>â‚¹899</td>\n",
       "    </tr>\n",
       "    <tr>\n",
       "      <th>3</th>\n",
       "      <td>AA004</td>\n",
       "      <td>beatXP Kitchen Scale Multipurpose Portable Ele...</td>\n",
       "      <td>appliances</td>\n",
       "      <td>All Appliances</td>\n",
       "      <td>NaN</td>\n",
       "      <td>https://m.media-amazon.com/images/W/IMAGERENDE...</td>\n",
       "      <td>https://www.amazon.in/beatXP-Multipurpose-Port...</td>\n",
       "      <td>3.7</td>\n",
       "      <td>3290.0</td>\n",
       "      <td>NaN</td>\n",
       "      <td>â‚¹299</td>\n",
       "      <td>â‚¹1,999</td>\n",
       "    </tr>\n",
       "    <tr>\n",
       "      <th>4</th>\n",
       "      <td>AA005</td>\n",
       "      <td>Bajaj DX-6 1000W Dry Iron with Advance Solepla...</td>\n",
       "      <td>appliances</td>\n",
       "      <td>All Appliances</td>\n",
       "      <td>NaN</td>\n",
       "      <td>https://m.media-amazon.com/images/W/IMAGERENDE...</td>\n",
       "      <td>https://www.amazon.in/Bajaj-Majesty-1000-Watt-...</td>\n",
       "      <td>4.2</td>\n",
       "      <td>24380.0</td>\n",
       "      <td>NaN</td>\n",
       "      <td>â‚¹625</td>\n",
       "      <td>â‚¹1,400</td>\n",
       "    </tr>\n",
       "  </tbody>\n",
       "</table>\n",
       "</div>"
      ],
      "text/plain": [
       "      id                                               name main_category  \\\n",
       "0  AA001  Pigeon by Stovekraft Amaze Plus Electric Kettl...    appliances   \n",
       "1  AA002  Pigeon Polypropylene Mini Handy and Compact Ch...    appliances   \n",
       "2  AA003  Glun Multipurpose Portable Electronic Digital ...    appliances   \n",
       "3  AA004  beatXP Kitchen Scale Multipurpose Portable Ele...    appliances   \n",
       "4  AA005  Bajaj DX-6 1000W Dry Iron with Advance Solepla...    appliances   \n",
       "\n",
       "     sub_category  Unnamed: 4  \\\n",
       "0  All Appliances         NaN   \n",
       "1  All Appliances         NaN   \n",
       "2  All Appliances         NaN   \n",
       "3  All Appliances         NaN   \n",
       "4  All Appliances         NaN   \n",
       "\n",
       "                                               image  \\\n",
       "0  https://m.media-amazon.com/images/W/IMAGERENDE...   \n",
       "1  https://m.media-amazon.com/images/W/IMAGERENDE...   \n",
       "2  https://m.media-amazon.com/images/W/IMAGERENDE...   \n",
       "3  https://m.media-amazon.com/images/W/IMAGERENDE...   \n",
       "4  https://m.media-amazon.com/images/W/IMAGERENDE...   \n",
       "\n",
       "                                                link  ratings  no_of_ratings  \\\n",
       "0  https://www.amazon.in/Pigeon-Amaze-Plus-1-5-Lt...      3.9       128941.0   \n",
       "1  https://www.amazon.in/Pigeon-Stovekraft-Plasti...      4.1       274505.0   \n",
       "2  https://www.amazon.in/Multipurpose-Portable-El...      3.8          365.0   \n",
       "3  https://www.amazon.in/beatXP-Multipurpose-Port...      3.7         3290.0   \n",
       "4  https://www.amazon.in/Bajaj-Majesty-1000-Watt-...      4.2        24380.0   \n",
       "\n",
       "   Unnamed: 9 discount_price actual_price  \n",
       "0         NaN         â‚¹599     â‚¹1,245  \n",
       "1         NaN         â‚¹199       â‚¹545  \n",
       "2         NaN         â‚¹199       â‚¹899  \n",
       "3         NaN         â‚¹299     â‚¹1,999  \n",
       "4         NaN         â‚¹625     â‚¹1,400  "
      ]
     },
     "execution_count": 27,
     "metadata": {},
     "output_type": "execute_result"
    }
   ],
   "source": [
    "aa_df.head(5)"
   ]
  },
  {
   "cell_type": "code",
   "execution_count": 28,
   "id": "c337246f",
   "metadata": {},
   "outputs": [],
   "source": [
    "aa_df.dropna(how='all', inplace=True)"
   ]
  },
  {
   "cell_type": "code",
   "execution_count": 29,
   "id": "bce3bea9",
   "metadata": {},
   "outputs": [],
   "source": [
    "aa_df.dropna(axis=1, how='all', inplace=True)"
   ]
  },
  {
   "cell_type": "code",
   "execution_count": 30,
   "id": "5acfa6b0",
   "metadata": {
    "scrolled": true
   },
   "outputs": [
    {
     "data": {
      "text/plain": [
       "Index(['id', 'name', 'main_category', 'sub_category', 'image', 'link',\n",
       "       'ratings', 'no_of_ratings', 'discount_price', 'actual_price'],\n",
       "      dtype='object')"
      ]
     },
     "execution_count": 30,
     "metadata": {},
     "output_type": "execute_result"
    }
   ],
   "source": [
    "aa_df.columns"
   ]
  },
  {
   "cell_type": "code",
   "execution_count": 31,
   "id": "8e7d70d7",
   "metadata": {},
   "outputs": [],
   "source": [
    "aa_df = aa_df.rename(columns={'id': 'Appliance id'})"
   ]
  },
  {
   "cell_type": "code",
   "execution_count": 32,
   "id": "5de807d2",
   "metadata": {},
   "outputs": [],
   "source": [
    "aa_df.drop(columns=['image', 'link'], inplace=True)"
   ]
  },
  {
   "cell_type": "code",
   "execution_count": 33,
   "id": "567e75fa",
   "metadata": {},
   "outputs": [
    {
     "name": "stdout",
     "output_type": "stream",
     "text": [
      "    Appliance id                                               name  \\\n",
      "0          AA001  Pigeon by Stovekraft Amaze Plus Electric Kettl...   \n",
      "1          AA002  Pigeon Polypropylene Mini Handy and Compact Ch...   \n",
      "2          AA003  Glun Multipurpose Portable Electronic Digital ...   \n",
      "3          AA004  beatXP Kitchen Scale Multipurpose Portable Ele...   \n",
      "4          AA005  Bajaj DX-6 1000W Dry Iron with Advance Solepla...   \n",
      "..           ...                                                ...   \n",
      "148        AA145  LG 7 Kg 5 Star Inverter Fully-Automatic Top Lo...   \n",
      "149        AA146  Orient Electric Wall-49 Wall-Mounted Fan with ...   \n",
      "150        AA147  Preethi Blue Leaf Diamond MG-214 mixer grinder...   \n",
      "151        AA148  MILTON Smart Egg Boilers | Instand Egg Boiler ...   \n",
      "152        AA149  FASTMART Coffee Milk Egg Beater Electric Foam ...   \n",
      "\n",
      "    main_category    sub_category  ratings  no_of_ratings discount_price  \\\n",
      "0      appliances  All Appliances      3.9       128941.0         â‚¹599   \n",
      "1      appliances  All Appliances      4.1       274505.0         â‚¹199   \n",
      "2      appliances  All Appliances      3.8          365.0         â‚¹199   \n",
      "3      appliances  All Appliances      3.7         3290.0         â‚¹299   \n",
      "4      appliances  All Appliances      4.2        24380.0         â‚¹625   \n",
      "..            ...             ...      ...            ...            ...   \n",
      "148    appliances  All Appliances      4.3        13541.0      â‚¹17,490   \n",
      "149    appliances  All Appliances      4.1         4088.0       â‚¹2,910   \n",
      "150    appliances  All Appliances      4.1        12096.0       â‚¹3,599   \n",
      "151    appliances  All Appliances      4.3         1985.0         â‚¹999   \n",
      "152    appliances  All Appliances      4.2           11.0         â‚¹229   \n",
      "\n",
      "    actual_price  \n",
      "0       â‚¹1,245  \n",
      "1         â‚¹545  \n",
      "2         â‚¹899  \n",
      "3       â‚¹1,999  \n",
      "4       â‚¹1,400  \n",
      "..           ...  \n",
      "148    â‚¹27,990  \n",
      "149     â‚¹4,235  \n",
      "150     â‚¹9,455  \n",
      "151     â‚¹1,899  \n",
      "152       â‚¹699  \n",
      "\n",
      "[149 rows x 8 columns]\n"
     ]
    }
   ],
   "source": [
    "print(aa_df)"
   ]
  },
  {
   "cell_type": "code",
   "execution_count": 34,
   "id": "2daffb2b",
   "metadata": {},
   "outputs": [],
   "source": [
    "aa_df['discount_price'] = aa_df['discount_price'].str.replace(',', '').str.replace('â‚¹', '').astype(float)\n",
    "aa_df['actual_price'] = aa_df['actual_price'].str.replace(',', '').str.replace('â‚¹', '').astype(float)\n"
   ]
  },
  {
   "cell_type": "code",
   "execution_count": 35,
   "id": "2eeada95",
   "metadata": {},
   "outputs": [
    {
     "name": "stdout",
     "output_type": "stream",
     "text": [
      "    Appliance id                                               name  \\\n",
      "0          AA001  Pigeon by Stovekraft Amaze Plus Electric Kettl...   \n",
      "1          AA002  Pigeon Polypropylene Mini Handy and Compact Ch...   \n",
      "2          AA003  Glun Multipurpose Portable Electronic Digital ...   \n",
      "3          AA004  beatXP Kitchen Scale Multipurpose Portable Ele...   \n",
      "4          AA005  Bajaj DX-6 1000W Dry Iron with Advance Solepla...   \n",
      "..           ...                                                ...   \n",
      "148        AA145  LG 7 Kg 5 Star Inverter Fully-Automatic Top Lo...   \n",
      "149        AA146  Orient Electric Wall-49 Wall-Mounted Fan with ...   \n",
      "150        AA147  Preethi Blue Leaf Diamond MG-214 mixer grinder...   \n",
      "151        AA148  MILTON Smart Egg Boilers | Instand Egg Boiler ...   \n",
      "152        AA149  FASTMART Coffee Milk Egg Beater Electric Foam ...   \n",
      "\n",
      "    main_category    sub_category  ratings  no_of_ratings  discount_price  \\\n",
      "0      appliances  All Appliances      3.9       128941.0           599.0   \n",
      "1      appliances  All Appliances      4.1       274505.0           199.0   \n",
      "2      appliances  All Appliances      3.8          365.0           199.0   \n",
      "3      appliances  All Appliances      3.7         3290.0           299.0   \n",
      "4      appliances  All Appliances      4.2        24380.0           625.0   \n",
      "..            ...             ...      ...            ...             ...   \n",
      "148    appliances  All Appliances      4.3        13541.0         17490.0   \n",
      "149    appliances  All Appliances      4.1         4088.0          2910.0   \n",
      "150    appliances  All Appliances      4.1        12096.0          3599.0   \n",
      "151    appliances  All Appliances      4.3         1985.0           999.0   \n",
      "152    appliances  All Appliances      4.2           11.0           229.0   \n",
      "\n",
      "     actual_price  \n",
      "0          1245.0  \n",
      "1           545.0  \n",
      "2           899.0  \n",
      "3          1999.0  \n",
      "4          1400.0  \n",
      "..            ...  \n",
      "148       27990.0  \n",
      "149        4235.0  \n",
      "150        9455.0  \n",
      "151        1899.0  \n",
      "152         699.0  \n",
      "\n",
      "[149 rows x 8 columns]\n"
     ]
    }
   ],
   "source": [
    "print(aa_df)"
   ]
  },
  {
   "cell_type": "code",
   "execution_count": 36,
   "id": "aad575eb",
   "metadata": {},
   "outputs": [],
   "source": [
    "#adding a savings column\n",
    "aa_df['savings'] = aa_df['actual_price'] - aa_df['discount_price']\n"
   ]
  },
  {
   "cell_type": "code",
   "execution_count": 38,
   "id": "4dbb2baa",
   "metadata": {},
   "outputs": [],
   "source": [
    "aa_df.to_excel(\"C:\\\\Users\\\\14375\\\\Downloads\\\\sql project data\\\\all_appliances_dIM1_clean.xlsx\", index=False)\n"
   ]
  },
  {
   "cell_type": "code",
   "execution_count": null,
   "id": "ec9b061c",
   "metadata": {},
   "outputs": [],
   "source": []
  },
  {
   "cell_type": "code",
   "execution_count": null,
   "id": "5acf734a",
   "metadata": {},
   "outputs": [],
   "source": []
  },
  {
   "cell_type": "code",
   "execution_count": null,
   "id": "9473748f",
   "metadata": {},
   "outputs": [],
   "source": []
  }
 ],
 "metadata": {
  "kernelspec": {
   "display_name": "Python 3 (ipykernel)",
   "language": "python",
   "name": "python3"
  },
  "language_info": {
   "codemirror_mode": {
    "name": "ipython",
    "version": 3
   },
   "file_extension": ".py",
   "mimetype": "text/x-python",
   "name": "python",
   "nbconvert_exporter": "python",
   "pygments_lexer": "ipython3",
   "version": "3.9.13"
  }
 },
 "nbformat": 4,
 "nbformat_minor": 5
}
