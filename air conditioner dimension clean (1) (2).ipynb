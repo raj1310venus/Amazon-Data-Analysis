{
 "cells": [
  {
   "cell_type": "code",
   "execution_count": 21,
   "id": "dc7d3b55",
   "metadata": {},
   "outputs": [],
   "source": [
    "import pandas as pd\n",
    "import numpy as np"
   ]
  },
  {
   "cell_type": "code",
   "execution_count": 27,
   "id": "a16725ab",
   "metadata": {},
   "outputs": [],
   "source": [
    "#loading the dataset\n",
    "df = pd.read_excel(\"C:\\\\Users\\\\14375\\\\Downloads\\\\sql project data\\\\Air Conditioners dimension.xlsx\", skiprows=3, header=1)"
   ]
  },
  {
   "cell_type": "code",
   "execution_count": 28,
   "id": "67915ea6",
   "metadata": {},
   "outputs": [
    {
     "name": "stdout",
     "output_type": "stream",
     "text": [
      "<class 'pandas.core.frame.DataFrame'>\n",
      "RangeIndex: 151 entries, 0 to 150\n",
      "Data columns (total 13 columns):\n",
      " #   Column          Non-Null Count  Dtype  \n",
      "---  ------          --------------  -----  \n",
      " 0   id              149 non-null    object \n",
      " 1   name            149 non-null    object \n",
      " 2   main_category   149 non-null    object \n",
      " 3   Unnamed: 3      0 non-null      float64\n",
      " 4   sub_category    149 non-null    object \n",
      " 5   image           149 non-null    object \n",
      " 6   Unnamed: 6      0 non-null      float64\n",
      " 7   link            149 non-null    object \n",
      " 8   ratings         131 non-null    float64\n",
      " 9   no_of_ratings   131 non-null    float64\n",
      " 10  Unnamed: 10     0 non-null      float64\n",
      " 11  discount_price  142 non-null    object \n",
      " 12  actual_price    144 non-null    object \n",
      "dtypes: float64(5), object(8)\n",
      "memory usage: 15.5+ KB\n"
     ]
    }
   ],
   "source": [
    "df.info()"
   ]
  },
  {
   "cell_type": "code",
   "execution_count": 29,
   "id": "59cb4158",
   "metadata": {},
   "outputs": [
    {
     "data": {
      "text/html": [
       "<div>\n",
       "<style scoped>\n",
       "    .dataframe tbody tr th:only-of-type {\n",
       "        vertical-align: middle;\n",
       "    }\n",
       "\n",
       "    .dataframe tbody tr th {\n",
       "        vertical-align: top;\n",
       "    }\n",
       "\n",
       "    .dataframe thead th {\n",
       "        text-align: right;\n",
       "    }\n",
       "</style>\n",
       "<table border=\"1\" class=\"dataframe\">\n",
       "  <thead>\n",
       "    <tr style=\"text-align: right;\">\n",
       "      <th></th>\n",
       "      <th>Unnamed: 3</th>\n",
       "      <th>Unnamed: 6</th>\n",
       "      <th>ratings</th>\n",
       "      <th>no_of_ratings</th>\n",
       "      <th>Unnamed: 10</th>\n",
       "    </tr>\n",
       "  </thead>\n",
       "  <tbody>\n",
       "    <tr>\n",
       "      <th>count</th>\n",
       "      <td>0.0</td>\n",
       "      <td>0.0</td>\n",
       "      <td>131.000000</td>\n",
       "      <td>131.000000</td>\n",
       "      <td>0.0</td>\n",
       "    </tr>\n",
       "    <tr>\n",
       "      <th>mean</th>\n",
       "      <td>NaN</td>\n",
       "      <td>NaN</td>\n",
       "      <td>3.993893</td>\n",
       "      <td>475.099237</td>\n",
       "      <td>NaN</td>\n",
       "    </tr>\n",
       "    <tr>\n",
       "      <th>std</th>\n",
       "      <td>NaN</td>\n",
       "      <td>NaN</td>\n",
       "      <td>0.475679</td>\n",
       "      <td>837.842356</td>\n",
       "      <td>NaN</td>\n",
       "    </tr>\n",
       "    <tr>\n",
       "      <th>min</th>\n",
       "      <td>NaN</td>\n",
       "      <td>NaN</td>\n",
       "      <td>2.700000</td>\n",
       "      <td>1.000000</td>\n",
       "      <td>NaN</td>\n",
       "    </tr>\n",
       "    <tr>\n",
       "      <th>25%</th>\n",
       "      <td>NaN</td>\n",
       "      <td>NaN</td>\n",
       "      <td>3.900000</td>\n",
       "      <td>13.000000</td>\n",
       "      <td>NaN</td>\n",
       "    </tr>\n",
       "    <tr>\n",
       "      <th>50%</th>\n",
       "      <td>NaN</td>\n",
       "      <td>NaN</td>\n",
       "      <td>4.000000</td>\n",
       "      <td>134.000000</td>\n",
       "      <td>NaN</td>\n",
       "    </tr>\n",
       "    <tr>\n",
       "      <th>75%</th>\n",
       "      <td>NaN</td>\n",
       "      <td>NaN</td>\n",
       "      <td>4.200000</td>\n",
       "      <td>519.000000</td>\n",
       "      <td>NaN</td>\n",
       "    </tr>\n",
       "    <tr>\n",
       "      <th>max</th>\n",
       "      <td>NaN</td>\n",
       "      <td>NaN</td>\n",
       "      <td>5.000000</td>\n",
       "      <td>5073.000000</td>\n",
       "      <td>NaN</td>\n",
       "    </tr>\n",
       "  </tbody>\n",
       "</table>\n",
       "</div>"
      ],
      "text/plain": [
       "       Unnamed: 3  Unnamed: 6     ratings  no_of_ratings  Unnamed: 10\n",
       "count         0.0         0.0  131.000000     131.000000          0.0\n",
       "mean          NaN         NaN    3.993893     475.099237          NaN\n",
       "std           NaN         NaN    0.475679     837.842356          NaN\n",
       "min           NaN         NaN    2.700000       1.000000          NaN\n",
       "25%           NaN         NaN    3.900000      13.000000          NaN\n",
       "50%           NaN         NaN    4.000000     134.000000          NaN\n",
       "75%           NaN         NaN    4.200000     519.000000          NaN\n",
       "max           NaN         NaN    5.000000    5073.000000          NaN"
      ]
     },
     "execution_count": 29,
     "metadata": {},
     "output_type": "execute_result"
    }
   ],
   "source": [
    "df.describe()"
   ]
  },
  {
   "cell_type": "code",
   "execution_count": 30,
   "id": "dc851bba",
   "metadata": {},
   "outputs": [
    {
     "data": {
      "text/plain": [
       "(151, 13)"
      ]
     },
     "execution_count": 30,
     "metadata": {},
     "output_type": "execute_result"
    }
   ],
   "source": [
    "df.shape"
   ]
  },
  {
   "cell_type": "code",
   "execution_count": 31,
   "id": "7448f922",
   "metadata": {},
   "outputs": [
    {
     "data": {
      "text/html": [
       "<div>\n",
       "<style scoped>\n",
       "    .dataframe tbody tr th:only-of-type {\n",
       "        vertical-align: middle;\n",
       "    }\n",
       "\n",
       "    .dataframe tbody tr th {\n",
       "        vertical-align: top;\n",
       "    }\n",
       "\n",
       "    .dataframe thead th {\n",
       "        text-align: right;\n",
       "    }\n",
       "</style>\n",
       "<table border=\"1\" class=\"dataframe\">\n",
       "  <thead>\n",
       "    <tr style=\"text-align: right;\">\n",
       "      <th></th>\n",
       "      <th>id</th>\n",
       "      <th>name</th>\n",
       "      <th>main_category</th>\n",
       "      <th>Unnamed: 3</th>\n",
       "      <th>sub_category</th>\n",
       "      <th>image</th>\n",
       "      <th>Unnamed: 6</th>\n",
       "      <th>link</th>\n",
       "      <th>ratings</th>\n",
       "      <th>no_of_ratings</th>\n",
       "      <th>Unnamed: 10</th>\n",
       "      <th>discount_price</th>\n",
       "      <th>actual_price</th>\n",
       "    </tr>\n",
       "  </thead>\n",
       "  <tbody>\n",
       "    <tr>\n",
       "      <th>0</th>\n",
       "      <td>AC001</td>\n",
       "      <td>Lloyd 1.5 Ton 3 Star Inverter Split Ac (5 In 1...</td>\n",
       "      <td>appliances</td>\n",
       "      <td>NaN</td>\n",
       "      <td>Air Conditioners</td>\n",
       "      <td>https://m.media-amazon.com/images/I/31UISB90sY...</td>\n",
       "      <td>NaN</td>\n",
       "      <td>https://www.amazon.in/Lloyd-Inverter-Convertib...</td>\n",
       "      <td>4.2</td>\n",
       "      <td>2255.0</td>\n",
       "      <td>NaN</td>\n",
       "      <td>â‚¹32,999</td>\n",
       "      <td>â‚¹58,990</td>\n",
       "    </tr>\n",
       "    <tr>\n",
       "      <th>1</th>\n",
       "      <td>AC002</td>\n",
       "      <td>LG 1.5 Ton 5 Star AI DUAL Inverter Split AC (C...</td>\n",
       "      <td>appliances</td>\n",
       "      <td>NaN</td>\n",
       "      <td>Air Conditioners</td>\n",
       "      <td>https://m.media-amazon.com/images/I/51JFb7FctD...</td>\n",
       "      <td>NaN</td>\n",
       "      <td>https://www.amazon.in/LG-Convertible-Anti-Viru...</td>\n",
       "      <td>4.2</td>\n",
       "      <td>2948.0</td>\n",
       "      <td>NaN</td>\n",
       "      <td>â‚¹46,490</td>\n",
       "      <td>â‚¹75,990</td>\n",
       "    </tr>\n",
       "    <tr>\n",
       "      <th>2</th>\n",
       "      <td>AC003</td>\n",
       "      <td>LG 1 Ton 4 Star Ai Dual Inverter Split Ac (Cop...</td>\n",
       "      <td>appliances</td>\n",
       "      <td>NaN</td>\n",
       "      <td>Air Conditioners</td>\n",
       "      <td>https://m.media-amazon.com/images/I/51JFb7FctD...</td>\n",
       "      <td>NaN</td>\n",
       "      <td>https://www.amazon.in/LG-Inverter-Convertible-...</td>\n",
       "      <td>4.2</td>\n",
       "      <td>1206.0</td>\n",
       "      <td>NaN</td>\n",
       "      <td>â‚¹34,490</td>\n",
       "      <td>â‚¹61,990</td>\n",
       "    </tr>\n",
       "    <tr>\n",
       "      <th>3</th>\n",
       "      <td>AC004</td>\n",
       "      <td>LG 1.5 Ton 3 Star AI DUAL Inverter Split AC (C...</td>\n",
       "      <td>appliances</td>\n",
       "      <td>NaN</td>\n",
       "      <td>Air Conditioners</td>\n",
       "      <td>https://m.media-amazon.com/images/I/51JFb7FctD...</td>\n",
       "      <td>NaN</td>\n",
       "      <td>https://www.amazon.in/LG-Convertible-Anti-Viru...</td>\n",
       "      <td>4.0</td>\n",
       "      <td>69.0</td>\n",
       "      <td>NaN</td>\n",
       "      <td>â‚¹37,990</td>\n",
       "      <td>â‚¹68,990</td>\n",
       "    </tr>\n",
       "    <tr>\n",
       "      <th>4</th>\n",
       "      <td>AC005</td>\n",
       "      <td>Carrier 1.5 Ton 3 Star Inverter Split AC (Copp...</td>\n",
       "      <td>appliances</td>\n",
       "      <td>NaN</td>\n",
       "      <td>Air Conditioners</td>\n",
       "      <td>https://m.media-amazon.com/images/I/41lrtqXPiW...</td>\n",
       "      <td>NaN</td>\n",
       "      <td>https://www.amazon.in/Carrier-Inverter-Split-C...</td>\n",
       "      <td>4.1</td>\n",
       "      <td>630.0</td>\n",
       "      <td>NaN</td>\n",
       "      <td>â‚¹34,490</td>\n",
       "      <td>â‚¹67,790</td>\n",
       "    </tr>\n",
       "  </tbody>\n",
       "</table>\n",
       "</div>"
      ],
      "text/plain": [
       "      id                                               name main_category  \\\n",
       "0  AC001  Lloyd 1.5 Ton 3 Star Inverter Split Ac (5 In 1...    appliances   \n",
       "1  AC002  LG 1.5 Ton 5 Star AI DUAL Inverter Split AC (C...    appliances   \n",
       "2  AC003  LG 1 Ton 4 Star Ai Dual Inverter Split Ac (Cop...    appliances   \n",
       "3  AC004  LG 1.5 Ton 3 Star AI DUAL Inverter Split AC (C...    appliances   \n",
       "4  AC005  Carrier 1.5 Ton 3 Star Inverter Split AC (Copp...    appliances   \n",
       "\n",
       "   Unnamed: 3      sub_category  \\\n",
       "0         NaN  Air Conditioners   \n",
       "1         NaN  Air Conditioners   \n",
       "2         NaN  Air Conditioners   \n",
       "3         NaN  Air Conditioners   \n",
       "4         NaN  Air Conditioners   \n",
       "\n",
       "                                               image  Unnamed: 6  \\\n",
       "0  https://m.media-amazon.com/images/I/31UISB90sY...         NaN   \n",
       "1  https://m.media-amazon.com/images/I/51JFb7FctD...         NaN   \n",
       "2  https://m.media-amazon.com/images/I/51JFb7FctD...         NaN   \n",
       "3  https://m.media-amazon.com/images/I/51JFb7FctD...         NaN   \n",
       "4  https://m.media-amazon.com/images/I/41lrtqXPiW...         NaN   \n",
       "\n",
       "                                                link  ratings  no_of_ratings  \\\n",
       "0  https://www.amazon.in/Lloyd-Inverter-Convertib...      4.2         2255.0   \n",
       "1  https://www.amazon.in/LG-Convertible-Anti-Viru...      4.2         2948.0   \n",
       "2  https://www.amazon.in/LG-Inverter-Convertible-...      4.2         1206.0   \n",
       "3  https://www.amazon.in/LG-Convertible-Anti-Viru...      4.0           69.0   \n",
       "4  https://www.amazon.in/Carrier-Inverter-Split-C...      4.1          630.0   \n",
       "\n",
       "   Unnamed: 10 discount_price actual_price  \n",
       "0          NaN      â‚¹32,999    â‚¹58,990  \n",
       "1          NaN      â‚¹46,490    â‚¹75,990  \n",
       "2          NaN      â‚¹34,490    â‚¹61,990  \n",
       "3          NaN      â‚¹37,990    â‚¹68,990  \n",
       "4          NaN      â‚¹34,490    â‚¹67,790  "
      ]
     },
     "execution_count": 31,
     "metadata": {},
     "output_type": "execute_result"
    }
   ],
   "source": [
    "df.head(5)"
   ]
  },
  {
   "cell_type": "code",
   "execution_count": 32,
   "id": "55192de9",
   "metadata": {},
   "outputs": [],
   "source": [
    "df.dropna(how='all', inplace=True)"
   ]
  },
  {
   "cell_type": "code",
   "execution_count": 33,
   "id": "c799f2a0",
   "metadata": {},
   "outputs": [],
   "source": [
    "df.dropna(axis=1, how='all', inplace=True)"
   ]
  },
  {
   "cell_type": "code",
   "execution_count": 34,
   "id": "c2cc3850",
   "metadata": {
    "scrolled": true
   },
   "outputs": [
    {
     "data": {
      "text/plain": [
       "Index(['id', 'name', 'main_category', 'sub_category', 'image', 'link',\n",
       "       'ratings', 'no_of_ratings', 'discount_price', 'actual_price'],\n",
       "      dtype='object')"
      ]
     },
     "execution_count": 34,
     "metadata": {},
     "output_type": "execute_result"
    }
   ],
   "source": [
    "df.columns"
   ]
  },
  {
   "cell_type": "code",
   "execution_count": 35,
   "id": "527c6126",
   "metadata": {},
   "outputs": [],
   "source": [
    "df = df.rename(columns={'id': 'Air Conditioner id'})"
   ]
  },
  {
   "cell_type": "code",
   "execution_count": 36,
   "id": "7bf659f4",
   "metadata": {},
   "outputs": [],
   "source": [
    "df.drop(columns=['image', 'link'], inplace=True)"
   ]
  },
  {
   "cell_type": "code",
   "execution_count": 37,
   "id": "e7bef487",
   "metadata": {},
   "outputs": [
    {
     "name": "stdout",
     "output_type": "stream",
     "text": [
      "    Air Conditioner id                                               name  \\\n",
      "0                AC001  Lloyd 1.5 Ton 3 Star Inverter Split Ac (5 In 1...   \n",
      "1                AC002  LG 1.5 Ton 5 Star AI DUAL Inverter Split AC (C...   \n",
      "2                AC003  LG 1 Ton 4 Star Ai Dual Inverter Split Ac (Cop...   \n",
      "3                AC004  LG 1.5 Ton 3 Star AI DUAL Inverter Split AC (C...   \n",
      "4                AC005  Carrier 1.5 Ton 3 Star Inverter Split AC (Copp...   \n",
      "..                 ...                                                ...   \n",
      "146              AC145  Daikin 1.5 Ton 4 Star Hot & Cold Heat Pump Inv...   \n",
      "147              AC146  Panasonic 1 Ton 5 Star Wi-Fi Inverter Smart Sp...   \n",
      "148              AC147  LG 1.5 Ton 5 Star AI DUAL Inverter Wi-Fi Split...   \n",
      "149              AC148       Voltas Split AC 1.5 Ton 3 Star (SAC 183 DZR)   \n",
      "150              AC149  Voltas 1.5 Ton 4 star 184V DAZR Adjustable Inv...   \n",
      "\n",
      "    main_category      sub_category  ratings  no_of_ratings discount_price  \\\n",
      "0      appliances  Air Conditioners      4.2         2255.0      â‚¹32,999   \n",
      "1      appliances  Air Conditioners      4.2         2948.0      â‚¹46,490   \n",
      "2      appliances  Air Conditioners      4.2         1206.0      â‚¹34,490   \n",
      "3      appliances  Air Conditioners      4.0           69.0      â‚¹37,990   \n",
      "4      appliances  Air Conditioners      4.1          630.0      â‚¹34,490   \n",
      "..            ...               ...      ...            ...            ...   \n",
      "146    appliances  Air Conditioners      3.7           27.0            NaN   \n",
      "147    appliances  Air Conditioners      4.7            7.0      â‚¹43,990   \n",
      "148    appliances  Air Conditioners      4.7           34.0            NaN   \n",
      "149    appliances  Air Conditioners      4.1           37.0      â‚¹36,990   \n",
      "150    appliances  Air Conditioners      4.5            2.0      â‚¹37,350   \n",
      "\n",
      "    actual_price  \n",
      "0      â‚¹58,990  \n",
      "1      â‚¹75,990  \n",
      "2      â‚¹61,990  \n",
      "3      â‚¹68,990  \n",
      "4      â‚¹67,790  \n",
      "..           ...  \n",
      "146          NaN  \n",
      "147    â‚¹64,400  \n",
      "148          NaN  \n",
      "149    â‚¹66,990  \n",
      "150    â‚¹69,990  \n",
      "\n",
      "[149 rows x 8 columns]\n"
     ]
    }
   ],
   "source": [
    "print(df)"
   ]
  },
  {
   "cell_type": "code",
   "execution_count": 38,
   "id": "39cbbb3a",
   "metadata": {},
   "outputs": [],
   "source": [
    "df['discount_price'] = df['discount_price'].str.replace(',', '').str.replace('â‚¹', '').astype(float)\n",
    "df['actual_price'] = df['actual_price'].str.replace(',', '').str.replace('â‚¹', '').astype(float)\n"
   ]
  },
  {
   "cell_type": "code",
   "execution_count": 39,
   "id": "63d09598",
   "metadata": {},
   "outputs": [
    {
     "name": "stdout",
     "output_type": "stream",
     "text": [
      "    Air Conditioner id                                               name  \\\n",
      "0                AC001  Lloyd 1.5 Ton 3 Star Inverter Split Ac (5 In 1...   \n",
      "1                AC002  LG 1.5 Ton 5 Star AI DUAL Inverter Split AC (C...   \n",
      "2                AC003  LG 1 Ton 4 Star Ai Dual Inverter Split Ac (Cop...   \n",
      "3                AC004  LG 1.5 Ton 3 Star AI DUAL Inverter Split AC (C...   \n",
      "4                AC005  Carrier 1.5 Ton 3 Star Inverter Split AC (Copp...   \n",
      "..                 ...                                                ...   \n",
      "146              AC145  Daikin 1.5 Ton 4 Star Hot & Cold Heat Pump Inv...   \n",
      "147              AC146  Panasonic 1 Ton 5 Star Wi-Fi Inverter Smart Sp...   \n",
      "148              AC147  LG 1.5 Ton 5 Star AI DUAL Inverter Wi-Fi Split...   \n",
      "149              AC148       Voltas Split AC 1.5 Ton 3 Star (SAC 183 DZR)   \n",
      "150              AC149  Voltas 1.5 Ton 4 star 184V DAZR Adjustable Inv...   \n",
      "\n",
      "    main_category      sub_category  ratings  no_of_ratings  discount_price  \\\n",
      "0      appliances  Air Conditioners      4.2         2255.0         32999.0   \n",
      "1      appliances  Air Conditioners      4.2         2948.0         46490.0   \n",
      "2      appliances  Air Conditioners      4.2         1206.0         34490.0   \n",
      "3      appliances  Air Conditioners      4.0           69.0         37990.0   \n",
      "4      appliances  Air Conditioners      4.1          630.0         34490.0   \n",
      "..            ...               ...      ...            ...             ...   \n",
      "146    appliances  Air Conditioners      3.7           27.0             NaN   \n",
      "147    appliances  Air Conditioners      4.7            7.0         43990.0   \n",
      "148    appliances  Air Conditioners      4.7           34.0             NaN   \n",
      "149    appliances  Air Conditioners      4.1           37.0         36990.0   \n",
      "150    appliances  Air Conditioners      4.5            2.0         37350.0   \n",
      "\n",
      "     actual_price  \n",
      "0         58990.0  \n",
      "1         75990.0  \n",
      "2         61990.0  \n",
      "3         68990.0  \n",
      "4         67790.0  \n",
      "..            ...  \n",
      "146           NaN  \n",
      "147       64400.0  \n",
      "148           NaN  \n",
      "149       66990.0  \n",
      "150       69990.0  \n",
      "\n",
      "[149 rows x 8 columns]\n"
     ]
    }
   ],
   "source": [
    "print(df)"
   ]
  },
  {
   "cell_type": "code",
   "execution_count": 40,
   "id": "a8a6688d",
   "metadata": {},
   "outputs": [
    {
     "name": "stdout",
     "output_type": "stream",
     "text": [
      "Air Conditioner id     0\n",
      "name                   0\n",
      "main_category          0\n",
      "sub_category           0\n",
      "ratings               18\n",
      "no_of_ratings         18\n",
      "discount_price         7\n",
      "actual_price           5\n",
      "dtype: int64\n"
     ]
    }
   ],
   "source": [
    "print(df.isnull().sum())\n"
   ]
  },
  {
   "cell_type": "code",
   "execution_count": 41,
   "id": "e83186db",
   "metadata": {},
   "outputs": [],
   "source": [
    "\n",
    "df['discount_price'] = df['discount_price'].fillna(df['discount_price'].mean())\n",
    "df['actual_price'] = df['actual_price'].fillna(df['actual_price'].mean())\n"
   ]
  },
  {
   "cell_type": "code",
   "execution_count": 42,
   "id": "93600870",
   "metadata": {},
   "outputs": [
    {
     "name": "stdout",
     "output_type": "stream",
     "text": [
      "    Air Conditioner id                                               name  \\\n",
      "0                AC001  Lloyd 1.5 Ton 3 Star Inverter Split Ac (5 In 1...   \n",
      "1                AC002  LG 1.5 Ton 5 Star AI DUAL Inverter Split AC (C...   \n",
      "2                AC003  LG 1 Ton 4 Star Ai Dual Inverter Split Ac (Cop...   \n",
      "3                AC004  LG 1.5 Ton 3 Star AI DUAL Inverter Split AC (C...   \n",
      "4                AC005  Carrier 1.5 Ton 3 Star Inverter Split AC (Copp...   \n",
      "..                 ...                                                ...   \n",
      "146              AC145  Daikin 1.5 Ton 4 Star Hot & Cold Heat Pump Inv...   \n",
      "147              AC146  Panasonic 1 Ton 5 Star Wi-Fi Inverter Smart Sp...   \n",
      "148              AC147  LG 1.5 Ton 5 Star AI DUAL Inverter Wi-Fi Split...   \n",
      "149              AC148       Voltas Split AC 1.5 Ton 3 Star (SAC 183 DZR)   \n",
      "150              AC149  Voltas 1.5 Ton 4 star 184V DAZR Adjustable Inv...   \n",
      "\n",
      "    main_category      sub_category  ratings  no_of_ratings  discount_price  \\\n",
      "0      appliances  Air Conditioners      4.2         2255.0    32999.000000   \n",
      "1      appliances  Air Conditioners      4.2         2948.0    46490.000000   \n",
      "2      appliances  Air Conditioners      4.2         1206.0    34490.000000   \n",
      "3      appliances  Air Conditioners      4.0           69.0    37990.000000   \n",
      "4      appliances  Air Conditioners      4.1          630.0    34490.000000   \n",
      "..            ...               ...      ...            ...             ...   \n",
      "146    appliances  Air Conditioners      3.7           27.0    37580.676056   \n",
      "147    appliances  Air Conditioners      4.7            7.0    43990.000000   \n",
      "148    appliances  Air Conditioners      4.7           34.0    37580.676056   \n",
      "149    appliances  Air Conditioners      4.1           37.0    36990.000000   \n",
      "150    appliances  Air Conditioners      4.5            2.0    37350.000000   \n",
      "\n",
      "     actual_price  \n",
      "0    58990.000000  \n",
      "1    75990.000000  \n",
      "2    61990.000000  \n",
      "3    68990.000000  \n",
      "4    67790.000000  \n",
      "..            ...  \n",
      "146  58466.569444  \n",
      "147  64400.000000  \n",
      "148  58466.569444  \n",
      "149  66990.000000  \n",
      "150  69990.000000  \n",
      "\n",
      "[149 rows x 8 columns]\n"
     ]
    }
   ],
   "source": [
    "print(df)"
   ]
  },
  {
   "cell_type": "code",
   "execution_count": 43,
   "id": "51ffe377",
   "metadata": {},
   "outputs": [],
   "source": [
    "df['savings'] = df['actual_price'] - df['discount_price']"
   ]
  },
  {
   "cell_type": "code",
   "execution_count": 44,
   "id": "241f0510",
   "metadata": {},
   "outputs": [],
   "source": [
    "df.to_excel(\"C:\\\\Users\\\\14375\\\\Downloads\\\\sql project data\\\\air_conditioner_dIM_clean.xlsx\", index=False)\n"
   ]
  },
  {
   "cell_type": "code",
   "execution_count": null,
   "id": "1ca8e352",
   "metadata": {},
   "outputs": [],
   "source": []
  }
 ],
 "metadata": {
  "kernelspec": {
   "display_name": "Python 3 (ipykernel)",
   "language": "python",
   "name": "python3"
  },
  "language_info": {
   "codemirror_mode": {
    "name": "ipython",
    "version": 3
   },
   "file_extension": ".py",
   "mimetype": "text/x-python",
   "name": "python",
   "nbconvert_exporter": "python",
   "pygments_lexer": "ipython3",
   "version": "3.9.13"
  }
 },
 "nbformat": 4,
 "nbformat_minor": 5
}
